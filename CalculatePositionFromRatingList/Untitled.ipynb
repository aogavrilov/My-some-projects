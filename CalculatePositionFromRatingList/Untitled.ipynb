{
 "cells": [
  {
   "cell_type": "code",
   "execution_count": 2,
   "metadata": {},
   "outputs": [],
   "source": [
    "import csv\n",
    "import codecs\n",
    "abiturs=[]\n",
    "def csv_reader(file_obj):\n",
    "    \n",
    "    abiturs_names=set()\n",
    "    inc=0\n",
    "    \"\"\"\n",
    "    Read a csv file\n",
    "    \"\"\"\n",
    "    reader = csv.reader(file_obj)\n",
    "    line=[]\n",
    "    for row in reader:\n",
    "        if(row[0]>='1' and row[0]<='9'):\n",
    "          #  if(row[2].find('08.03.01 Сб - (СФ)')!=-1):\n",
    "            if(row[2][:18]=='08.03.01 Сб - (СФ)'):\n",
    "              #  print(inc,line)\n",
    "                #print()\n",
    "                line[1]=line[2]+line[30]\n",
    "                line[30]=''\n",
    "                if(line[17]!='' and line[17]!='Копия'and line[17]!='Оригинал'):line[2]=int(line[17])\n",
    "                else:\n",
    "                  #  if(line[18]!=''): line[2]=line[18]\n",
    "                   # elif(line[31]!=''): line[2]=line[31]\n",
    "                  #  else: \n",
    "                    line[2]=0\n",
    "                   # print(line)\n",
    "                line[3]=line[18]\n",
    "                line[4]=line[19]\n",
    "                line[5]=line[20]\n",
    "                line[6]+=line[34]\n",
    "                #print('#2',line)\n",
    "                if(inc!=0 and line[1][:18]=='08.03.01 Сб - (СФ)' and line[15] not in abiturs_names):\n",
    "                    abiturs.append(line)\n",
    "                    abiturs_names.add(line[15])\n",
    "                inc+=1\n",
    "            line =row\n",
    "        else: line=line+row\n",
    "    \n",
    "if __name__ == \"__main__\":\n",
    "    csv_path = \"2.csv\"\n",
    "    with codecs.open(csv_path, \"r\",\"utf_8_sig\") as f_obj:\n",
    "        csv_reader(f_obj)\n",
    "\n",
    "abiturs=sorted(abiturs,key=lambda abit: abit[2],reverse=True)  \n",
    "with codecs.open('output.txt','w','utf_8_sig') as output:\n",
    "    origs=0\n",
    "    for x in abiturs: \n",
    "        if x[3]=='Оригинал' and x[2]>=235: origs+=1\n",
    "    z= 'Оригиналов с>=235б: '+ str(origs) +'\\n'    \n",
    "    output.write(z)\n",
    "    ik=1\n",
    "    for x in abiturs: \n",
    "        if(str(x[3])=='Оригинал'): outl='№'+str(ik)+' Баллы:'+str(x[2])+' Документы: '+str(x[3]).upper()+' '+'ФИО: '+str(x[15])+' '+str(x)+'\\n'\n",
    "        else:  outl='№'+str(ik)+' Баллы:'+str(x[2])+' Документы: '+str(x[3]).lower()+' '+'ФИО: '+str(x[15])+' '+str(x)+'\\n'\n",
    "\n",
    "        output.write(outl)\n",
    "        ik+=1\n",
    "    for ept in range(10): output.write('\\n')\n",
    "    mm=1    \n",
    "    for x in abiturs: \n",
    "        if(str(x[3])=='Оригинал'): \n",
    "            outl='№'+str(mm)+' Баллы:'+str(x[2])+' Документы: '+str(x[3]).upper()+' '+'ФИО: '+str(x[15])+' '+str(x)+'\\n'\n",
    "            output.write(outl)\n",
    "            mm+=1"
   ]
  },
  {
   "cell_type": "code",
   "execution_count": null,
   "metadata": {},
   "outputs": [],
   "source": []
  },
  {
   "cell_type": "code",
   "execution_count": null,
   "metadata": {},
   "outputs": [],
   "source": []
  },
  {
   "cell_type": "code",
   "execution_count": null,
   "metadata": {},
   "outputs": [],
   "source": []
  },
  {
   "cell_type": "code",
   "execution_count": null,
   "metadata": {},
   "outputs": [],
   "source": []
  },
  {
   "cell_type": "code",
   "execution_count": null,
   "metadata": {},
   "outputs": [],
   "source": []
  }
 ],
 "metadata": {
  "kernelspec": {
   "display_name": "Python 3",
   "language": "python",
   "name": "python3"
  },
  "language_info": {
   "codemirror_mode": {
    "name": "ipython",
    "version": 3
   },
   "file_extension": ".py",
   "mimetype": "text/x-python",
   "name": "python",
   "nbconvert_exporter": "python",
   "pygments_lexer": "ipython3",
   "version": "3.7.3"
  }
 },
 "nbformat": 4,
 "nbformat_minor": 2
}
