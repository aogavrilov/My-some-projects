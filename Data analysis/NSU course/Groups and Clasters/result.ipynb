{
 "cells": [
  {
   "cell_type": "markdown",
   "metadata": {},
   "source": [
    "## Предобработка:\n"
   ]
  },
  {
   "cell_type": "code",
   "execution_count": 1,
   "metadata": {},
   "outputs": [],
   "source": [
    "import pandas as pd"
   ]
  },
  {
   "cell_type": "markdown",
   "metadata": {},
   "source": [
    "#### Загрузим данные:"
   ]
  },
  {
   "cell_type": "code",
   "execution_count": 124,
   "metadata": {},
   "outputs": [],
   "source": [
    "#На основе переменных о количестве (кликов в адрес, во вход, в карточку)\n",
    "#, а также о количестве пользователей и медианном расстоянии от пользователя до объекта\n",
    "\n",
    "data = pd.read_csv('Data_Projects.csv', ';', decimal=',').drop(['FirmsCount', 'GeoPart', 'MobilePart', 'IsGeo'], axis='columns')\n"
   ]
  },
  {
   "cell_type": "code",
   "execution_count": 125,
   "metadata": {},
   "outputs": [
    {
     "data": {
      "text/html": [
       "<div>\n",
       "<style scoped>\n",
       "    .dataframe tbody tr th:only-of-type {\n",
       "        vertical-align: middle;\n",
       "    }\n",
       "\n",
       "    .dataframe tbody tr th {\n",
       "        vertical-align: top;\n",
       "    }\n",
       "\n",
       "    .dataframe thead th {\n",
       "        text-align: right;\n",
       "    }\n",
       "</style>\n",
       "<table border=\"1\" class=\"dataframe\">\n",
       "  <thead>\n",
       "    <tr style=\"text-align: right;\">\n",
       "      <th></th>\n",
       "      <th>AddressCount</th>\n",
       "      <th>CallsCount</th>\n",
       "      <th>ClicksCount</th>\n",
       "      <th>UsersCount</th>\n",
       "      <th>Distance</th>\n",
       "    </tr>\n",
       "  </thead>\n",
       "  <tbody>\n",
       "    <tr>\n",
       "      <th>0</th>\n",
       "      <td>156</td>\n",
       "      <td>20</td>\n",
       "      <td>1903</td>\n",
       "      <td>1125</td>\n",
       "      <td>749.966084</td>\n",
       "    </tr>\n",
       "    <tr>\n",
       "      <th>1</th>\n",
       "      <td>17</td>\n",
       "      <td>37</td>\n",
       "      <td>258</td>\n",
       "      <td>157</td>\n",
       "      <td>2289.032424</td>\n",
       "    </tr>\n",
       "    <tr>\n",
       "      <th>2</th>\n",
       "      <td>78</td>\n",
       "      <td>56</td>\n",
       "      <td>1956</td>\n",
       "      <td>1195</td>\n",
       "      <td>1423.376512</td>\n",
       "    </tr>\n",
       "    <tr>\n",
       "      <th>3</th>\n",
       "      <td>14</td>\n",
       "      <td>70</td>\n",
       "      <td>378</td>\n",
       "      <td>206</td>\n",
       "      <td>3396.566089</td>\n",
       "    </tr>\n",
       "    <tr>\n",
       "      <th>4</th>\n",
       "      <td>111</td>\n",
       "      <td>90</td>\n",
       "      <td>4089</td>\n",
       "      <td>2934</td>\n",
       "      <td>1576.514154</td>\n",
       "    </tr>\n",
       "    <tr>\n",
       "      <th>...</th>\n",
       "      <td>...</td>\n",
       "      <td>...</td>\n",
       "      <td>...</td>\n",
       "      <td>...</td>\n",
       "      <td>...</td>\n",
       "    </tr>\n",
       "    <tr>\n",
       "      <th>74</th>\n",
       "      <td>2535</td>\n",
       "      <td>12436</td>\n",
       "      <td>44597</td>\n",
       "      <td>11172</td>\n",
       "      <td>1908.108110</td>\n",
       "    </tr>\n",
       "    <tr>\n",
       "      <th>75</th>\n",
       "      <td>1103</td>\n",
       "      <td>12805</td>\n",
       "      <td>33388</td>\n",
       "      <td>13911</td>\n",
       "      <td>2642.200165</td>\n",
       "    </tr>\n",
       "    <tr>\n",
       "      <th>76</th>\n",
       "      <td>3132</td>\n",
       "      <td>20609</td>\n",
       "      <td>75303</td>\n",
       "      <td>23982</td>\n",
       "      <td>2278.162917</td>\n",
       "    </tr>\n",
       "    <tr>\n",
       "      <th>77</th>\n",
       "      <td>5740</td>\n",
       "      <td>47912</td>\n",
       "      <td>167155</td>\n",
       "      <td>61127</td>\n",
       "      <td>989.412139</td>\n",
       "    </tr>\n",
       "    <tr>\n",
       "      <th>78</th>\n",
       "      <td>6037</td>\n",
       "      <td>48497</td>\n",
       "      <td>149920</td>\n",
       "      <td>58351</td>\n",
       "      <td>918.713972</td>\n",
       "    </tr>\n",
       "  </tbody>\n",
       "</table>\n",
       "<p>79 rows × 5 columns</p>\n",
       "</div>"
      ],
      "text/plain": [
       "    AddressCount  CallsCount  ClicksCount  UsersCount     Distance\n",
       "0            156          20         1903        1125   749.966084\n",
       "1             17          37          258         157  2289.032424\n",
       "2             78          56         1956        1195  1423.376512\n",
       "3             14          70          378         206  3396.566089\n",
       "4            111          90         4089        2934  1576.514154\n",
       "..           ...         ...          ...         ...          ...\n",
       "74          2535       12436        44597       11172  1908.108110\n",
       "75          1103       12805        33388       13911  2642.200165\n",
       "76          3132       20609        75303       23982  2278.162917\n",
       "77          5740       47912       167155       61127   989.412139\n",
       "78          6037       48497       149920       58351   918.713972\n",
       "\n",
       "[79 rows x 5 columns]"
      ]
     },
     "execution_count": 125,
     "metadata": {},
     "output_type": "execute_result"
    }
   ],
   "source": [
    "data"
   ]
  },
  {
   "cell_type": "markdown",
   "metadata": {},
   "source": [
    "#### Посмотрим распределения признаков:"
   ]
  },
  {
   "cell_type": "code",
   "execution_count": 126,
   "metadata": {},
   "outputs": [],
   "source": [
    "import matplotlib.pyplot as plt\n",
    "import numpy as np"
   ]
  },
  {
   "cell_type": "code",
   "execution_count": 127,
   "metadata": {},
   "outputs": [
    {
     "data": {
      "text/plain": [
       "(array([15., 12., 11., 10., 11.,  6.,  7.,  1.,  3.,  3.]),\n",
       " array([ 714.7872362 , 1272.52924372, 1830.27125124, 2388.01325876,\n",
       "        2945.75526628, 3503.49727379, 4061.23928131, 4618.98128883,\n",
       "        5176.72329635, 5734.46530387, 6292.20731139]),\n",
       " <a list of 10 Patch objects>)"
      ]
     },
     "execution_count": 127,
     "metadata": {},
     "output_type": "execute_result"
    },
    {
     "data": {
      "image/png": "[encoded data removed]",
      "text/plain": [
       "<Figure size 432x288 with 5 Axes>"
      ]
     },
     "metadata": {
      "needs_background": "light"
     },
     "output_type": "display_data"
    }
   ],
   "source": [
    "_, (ax1, ax2, ax3, ax4, ax5) = plt.subplots(ncols = 5)\n",
    "ax1.hist(data['AddressCount'])\n",
    "ax2.hist(data['CallsCount'])\n",
    "ax3.hist(data['ClicksCount'])\n",
    "ax4.hist(data['UsersCount'])\n",
    "ax5.hist(data['Distance'])"
   ]
  },
  {
   "cell_type": "markdown",
   "metadata": {},
   "source": [
    "Данные походи на логнормальные, попробуем прологарифмировать:"
   ]
  },
  {
   "cell_type": "code",
   "execution_count": 128,
   "metadata": {},
   "outputs": [
    {
     "data": {
      "text/plain": [
       "(array([ 5., 15., 21., 10., 16., 12.]),\n",
       " array([ 5.05624581,  6.050323  ,  7.04440019,  8.03847738,  9.03255457,\n",
       "        10.02663176, 11.02070895]),\n",
       " <a list of 6 Patch objects>)"
      ]
     },
     "execution_count": 128,
     "metadata": {},
     "output_type": "execute_result"
    },
    {
     "data": {
      "image/png": "[encoded data removed]",
      "text/plain": [
       "<Figure size 432x288 with 4 Axes>"
      ]
     },
     "metadata": {
      "needs_background": "light"
     },
     "output_type": "display_data"
    }
   ],
   "source": [
    "_, (ax1, ax2, ax3, ax4) = plt.subplots(ncols = 4)\n",
    "ax1.hist(np.log(data['AddressCount']), bins='fd')\n",
    "ax2.hist(np.log(data['CallsCount']), bins='fd')\n",
    "ax3.hist(np.log(data['ClicksCount']), bins='fd')\n",
    "ax4.hist(np.log(data['UsersCount']), bins='fd')"
   ]
  },
  {
   "cell_type": "markdown",
   "metadata": {},
   "source": [
    "Только 2 график похож на нормальные данные теперь, так что оставим как было."
   ]
  },
  {
   "cell_type": "code",
   "execution_count": 129,
   "metadata": {},
   "outputs": [
    {
     "data": {
      "text/plain": [
       "{'whiskers': [<matplotlib.lines.Line2D at 0x1e420c8f348>,\n",
       "  <matplotlib.lines.Line2D at 0x1e420cb1d08>],\n",
       " 'caps': [<matplotlib.lines.Line2D at 0x1e420cb6d88>,\n",
       "  <matplotlib.lines.Line2D at 0x1e420cb1948>],\n",
       " 'boxes': [<matplotlib.lines.Line2D at 0x1e420c55b88>],\n",
       " 'medians': [<matplotlib.lines.Line2D at 0x1e420cb6fc8>],\n",
       " 'fliers': [<matplotlib.lines.Line2D at 0x1e420c9e608>],\n",
       " 'means': []}"
      ]
     },
     "execution_count": 129,
     "metadata": {},
     "output_type": "execute_result"
    },
    {
     "data": {
      "image/png": "[encoded data removed]",
      "text/plain": [
       "<Figure size 432x288 with 5 Axes>"
      ]
     },
     "metadata": {
      "needs_background": "light"
     },
     "output_type": "display_data"
    }
   ],
   "source": [
    "_, (ax1, ax2, ax3, ax4, ax5) = plt.subplots(ncols = 5)\n",
    "ax1.boxplot(data['AddressCount'])\n",
    "ax2.boxplot(data['CallsCount'])\n",
    "ax3.boxplot(data['ClicksCount'])\n",
    "ax4.boxplot(data['UsersCount'])\n",
    "ax5.boxplot(data['Distance'])"
   ]
  },
  {
   "cell_type": "markdown",
   "metadata": {},
   "source": [
    "Удалим 2 выброса из данных CallsCount. \"Выбросы\" остальных параметров могут быть и особенностями распределения."
   ]
  },
  {
   "cell_type": "code",
   "execution_count": 130,
   "metadata": {},
   "outputs": [],
   "source": [
    "data = data[(data['CallsCount'] < 30000) & (data['AddressCount'] < 8000)]"
   ]
  },
  {
   "cell_type": "code",
   "execution_count": 131,
   "metadata": {},
   "outputs": [
    {
     "data": {
      "text/plain": [
       "(76, 5)"
      ]
     },
     "execution_count": 131,
     "metadata": {},
     "output_type": "execute_result"
    }
   ],
   "source": [
    "data.shape"
   ]
  },
  {
   "cell_type": "code",
   "execution_count": 132,
   "metadata": {},
   "outputs": [
    {
     "data": {
      "text/plain": [
       "{'whiskers': [<matplotlib.lines.Line2D at 0x1e420e507c8>,\n",
       "  <matplotlib.lines.Line2D at 0x1e420eb0b88>],\n",
       " 'caps': [<matplotlib.lines.Line2D at 0x1e420eb0c48>,\n",
       "  <matplotlib.lines.Line2D at 0x1e420ea9f88>],\n",
       " 'boxes': [<matplotlib.lines.Line2D at 0x1e420e8c708>],\n",
       " 'medians': [<matplotlib.lines.Line2D at 0x1e420eb3bc8>],\n",
       " 'fliers': [<matplotlib.lines.Line2D at 0x1e420eb3e48>],\n",
       " 'means': []}"
      ]
     },
     "execution_count": 132,
     "metadata": {},
     "output_type": "execute_result"
    },
    {
     "data": {
      "image/png": "[encoded data removed]",
      "text/plain": [
       "<Figure size 432x288 with 5 Axes>"
      ]
     },
     "metadata": {
      "needs_background": "light"
     },
     "output_type": "display_data"
    }
   ],
   "source": [
    "_, (ax1, ax2, ax3, ax4, ax5) = plt.subplots(ncols = 5)\n",
    "ax1.boxplot(data['AddressCount'])\n",
    "ax2.boxplot(data['CallsCount'])\n",
    "ax3.boxplot(data['ClicksCount'])\n",
    "ax4.boxplot(data['UsersCount'])\n",
    "ax5.boxplot(data['Distance'])"
   ]
  },
  {
   "cell_type": "code",
   "execution_count": 133,
   "metadata": {},
   "outputs": [
    {
     "data": {
      "text/plain": [
       "(array([12., 12., 11., 10., 11.,  6.,  7.,  1.,  3.,  3.]),\n",
       " array([ 714.7872362 , 1272.52924372, 1830.27125124, 2388.01325876,\n",
       "        2945.75526628, 3503.49727379, 4061.23928131, 4618.98128883,\n",
       "        5176.72329635, 5734.46530387, 6292.20731139]),\n",
       " <a list of 10 Patch objects>)"
      ]
     },
     "execution_count": 133,
     "metadata": {},
     "output_type": "execute_result"
    },
    {
     "data": {
      "image/png": "[encoded data removed]",
      "text/plain": [
       "<Figure size 1152x1152 with 5 Axes>"
      ]
     },
     "metadata": {
      "needs_background": "light"
     },
     "output_type": "display_data"
    }
   ],
   "source": [
    "_, (ax1, ax2, ax3, ax4, ax5) = plt.subplots(ncols = 5, figsize=(16, 16))\n",
    "#plt.figure(figsize=(8,8),facecolor='red',edgecolor='blue')\n",
    "ax1.hist(data['AddressCount'])\n",
    "ax2.hist(data['CallsCount'])\n",
    "ax3.hist(data['ClicksCount'])\n",
    "ax4.hist(data['UsersCount'])\n",
    "ax5.hist(data['Distance'])"
   ]
  },
  {
   "cell_type": "code",
   "execution_count": 134,
   "metadata": {},
   "outputs": [
    {
     "data": {
      "text/html": [
       "<div>\n",
       "<style scoped>\n",
       "    .dataframe tbody tr th:only-of-type {\n",
       "        vertical-align: middle;\n",
       "    }\n",
       "\n",
       "    .dataframe tbody tr th {\n",
       "        vertical-align: top;\n",
       "    }\n",
       "\n",
       "    .dataframe thead th {\n",
       "        text-align: right;\n",
       "    }\n",
       "</style>\n",
       "<table border=\"1\" class=\"dataframe\">\n",
       "  <thead>\n",
       "    <tr style=\"text-align: right;\">\n",
       "      <th></th>\n",
       "      <th>AddressCount</th>\n",
       "      <th>CallsCount</th>\n",
       "      <th>ClicksCount</th>\n",
       "      <th>UsersCount</th>\n",
       "      <th>Distance</th>\n",
       "    </tr>\n",
       "  </thead>\n",
       "  <tbody>\n",
       "    <tr>\n",
       "      <th>count</th>\n",
       "      <td>76.000000</td>\n",
       "      <td>76.000000</td>\n",
       "      <td>76.000000</td>\n",
       "      <td>76.000000</td>\n",
       "      <td>76.000000</td>\n",
       "    </tr>\n",
       "    <tr>\n",
       "      <th>mean</th>\n",
       "      <td>808.763158</td>\n",
       "      <td>2521.447368</td>\n",
       "      <td>17179.236842</td>\n",
       "      <td>7854.223684</td>\n",
       "      <td>2738.988374</td>\n",
       "    </tr>\n",
       "    <tr>\n",
       "      <th>std</th>\n",
       "      <td>1075.452920</td>\n",
       "      <td>3775.458974</td>\n",
       "      <td>22131.060449</td>\n",
       "      <td>10255.461594</td>\n",
       "      <td>1410.950716</td>\n",
       "    </tr>\n",
       "    <tr>\n",
       "      <th>min</th>\n",
       "      <td>9.000000</td>\n",
       "      <td>20.000000</td>\n",
       "      <td>258.000000</td>\n",
       "      <td>157.000000</td>\n",
       "      <td>714.787236</td>\n",
       "    </tr>\n",
       "    <tr>\n",
       "      <th>25%</th>\n",
       "      <td>77.750000</td>\n",
       "      <td>347.000000</td>\n",
       "      <td>1997.500000</td>\n",
       "      <td>1137.500000</td>\n",
       "      <td>1646.303993</td>\n",
       "    </tr>\n",
       "    <tr>\n",
       "      <th>50%</th>\n",
       "      <td>345.000000</td>\n",
       "      <td>913.500000</td>\n",
       "      <td>6363.500000</td>\n",
       "      <td>2858.000000</td>\n",
       "      <td>2639.042209</td>\n",
       "    </tr>\n",
       "    <tr>\n",
       "      <th>75%</th>\n",
       "      <td>1133.000000</td>\n",
       "      <td>2348.500000</td>\n",
       "      <td>27011.500000</td>\n",
       "      <td>11661.500000</td>\n",
       "      <td>3676.600326</td>\n",
       "    </tr>\n",
       "    <tr>\n",
       "      <th>max</th>\n",
       "      <td>4204.000000</td>\n",
       "      <td>20609.000000</td>\n",
       "      <td>94918.000000</td>\n",
       "      <td>40614.000000</td>\n",
       "      <td>6292.207311</td>\n",
       "    </tr>\n",
       "  </tbody>\n",
       "</table>\n",
       "</div>"
      ],
      "text/plain": [
       "       AddressCount    CallsCount   ClicksCount    UsersCount     Distance\n",
       "count     76.000000     76.000000     76.000000     76.000000    76.000000\n",
       "mean     808.763158   2521.447368  17179.236842   7854.223684  2738.988374\n",
       "std     1075.452920   3775.458974  22131.060449  10255.461594  1410.950716\n",
       "min        9.000000     20.000000    258.000000    157.000000   714.787236\n",
       "25%       77.750000    347.000000   1997.500000   1137.500000  1646.303993\n",
       "50%      345.000000    913.500000   6363.500000   2858.000000  2639.042209\n",
       "75%     1133.000000   2348.500000  27011.500000  11661.500000  3676.600326\n",
       "max     4204.000000  20609.000000  94918.000000  40614.000000  6292.207311"
      ]
     },
     "execution_count": 134,
     "metadata": {},
     "output_type": "execute_result"
    }
   ],
   "source": [
    "data.describe()"
   ]
  },
  {
   "cell_type": "markdown",
   "metadata": {},
   "source": [
    "## Приступим к кластеризации"
   ]
  },
  {
   "cell_type": "code",
   "execution_count": 135,
   "metadata": {},
   "outputs": [],
   "source": [
    "from scipy.cluster.hierarchy import dendrogram, linkage, cophenet, fcluster"
   ]
  },
  {
   "cell_type": "code",
   "execution_count": 136,
   "metadata": {},
   "outputs": [],
   "source": [
    "z = linkage(data, 'median')\n"
   ]
  },
  {
   "cell_type": "code",
   "execution_count": 137,
   "metadata": {},
   "outputs": [
    {
     "data": {
      "image/png": "[encoded data removed]",
      "text/plain": [
       "<Figure size 432x288 with 1 Axes>"
      ]
     },
     "metadata": {
      "needs_background": "light"
     },
     "output_type": "display_data"
    }
   ],
   "source": [
    "dn = dendrogram(z, orientation='left')\n",
    "plt.show()"
   ]
  },
  {
   "cell_type": "code",
   "execution_count": 138,
   "metadata": {},
   "outputs": [],
   "source": [
    "label = fcluster(z, 15000, criterion='distance')"
   ]
  },
  {
   "cell_type": "code",
   "execution_count": 139,
   "metadata": {},
   "outputs": [
    {
     "data": {
      "text/plain": [
       "array([4, 4, 4, 4, 4, 4, 4, 4, 4, 4, 4, 4, 4, 4, 4, 4, 4, 4, 4, 4, 4, 4,\n",
       "       4, 4, 4, 4, 4, 4, 4, 4, 4, 4, 4, 4, 4, 4, 4, 4, 4, 4, 4, 6, 5, 4,\n",
       "       4, 4, 5, 6, 4, 4, 5, 4, 4, 4, 4, 5, 4, 4, 4, 5, 1, 6, 5, 5, 4, 5,\n",
       "       1, 6, 6, 6, 5, 3, 1, 5, 5, 2], dtype=int32)"
      ]
     },
     "execution_count": 139,
     "metadata": {},
     "output_type": "execute_result"
    }
   ],
   "source": [
    "label"
   ]
  },
  {
   "cell_type": "code",
   "execution_count": 140,
   "metadata": {},
   "outputs": [
    {
     "data": {
      "text/plain": [
       "array([1, 2, 3, 4, 5, 6], dtype=int32)"
      ]
     },
     "execution_count": 140,
     "metadata": {},
     "output_type": "execute_result"
    }
   ],
   "source": [
    "np.unique(label)"
   ]
  },
  {
   "cell_type": "code",
   "execution_count": 141,
   "metadata": {},
   "outputs": [],
   "source": [
    "from sklearn.cluster import KMeans"
   ]
  },
  {
   "cell_type": "code",
   "execution_count": 142,
   "metadata": {},
   "outputs": [
    {
     "data": {
      "text/plain": [
       "array([1, 1, 1, 1, 1, 1, 1, 1, 1, 1, 1, 1, 1, 1, 1, 1, 1, 1, 1, 1, 1, 1,\n",
       "       1, 1, 1, 1, 1, 1, 1, 1, 1, 1, 1, 1, 1, 1, 1, 1, 1, 1, 1, 3, 4, 1,\n",
       "       1, 1, 0, 0, 4, 1, 0, 1, 4, 1, 4, 4, 1, 1, 4, 4, 3, 0, 0, 4, 4, 4,\n",
       "       2, 3, 3, 3, 0, 2, 3, 0, 0, 2])"
      ]
     },
     "execution_count": 142,
     "metadata": {},
     "output_type": "execute_result"
    }
   ],
   "source": [
    "km = KMeans(n_clusters=5).fit(data)\n",
    "predictions = km.predict(data)\n",
    "predictions"
   ]
  },
  {
   "cell_type": "markdown",
   "metadata": {},
   "source": [
    "Посмотрим на наполненность кластеров:"
   ]
  },
  {
   "cell_type": "code",
   "execution_count": 143,
   "metadata": {},
   "outputs": [
    {
     "name": "stdout",
     "output_type": "stream",
     "text": [
      "0 :  8\n",
      "1 :  49\n",
      "2 :  3\n",
      "3 :  6\n",
      "4 :  10\n"
     ]
    }
   ],
   "source": [
    "for i in range(5):\n",
    "    print(i, ': ', (predictions==i).sum())"
   ]
  },
  {
   "cell_type": "markdown",
   "metadata": {},
   "source": [
    "Вероятно мы наблюдаем ненаполненность кластеров, попробуем создать 3 кластера."
   ]
  },
  {
   "cell_type": "code",
   "execution_count": 144,
   "metadata": {},
   "outputs": [
    {
     "name": "stdout",
     "output_type": "stream",
     "text": [
      "0 :  50\n",
      "1 :  17\n",
      "2 :  9\n"
     ]
    }
   ],
   "source": [
    "km = KMeans(n_clusters=3).fit(data)\n",
    "predictions = km.predict(data)\n",
    "for i in range(3):\n",
    "    print(i, ': ', (predictions==i).sum())"
   ]
  },
  {
   "cell_type": "code",
   "execution_count": 145,
   "metadata": {},
   "outputs": [
    {
     "name": "stderr",
     "output_type": "stream",
     "text": [
      "C:\\Users\\Alexey\\anaconda3\\lib\\site-packages\\ipykernel_launcher.py:1: SettingWithCopyWarning: \n",
      "A value is trying to be set on a copy of a slice from a DataFrame.\n",
      "Try using .loc[row_indexer,col_indexer] = value instead\n",
      "\n",
      "See the caveats in the documentation: https://pandas.pydata.org/pandas-docs/stable/user_guide/indexing.html#returning-a-view-versus-a-copy\n",
      "  \"\"\"Entry point for launching an IPython kernel.\n"
     ]
    }
   ],
   "source": [
    "data['cluster'] = predictions"
   ]
  },
  {
   "cell_type": "code",
   "execution_count": 146,
   "metadata": {},
   "outputs": [
    {
     "data": {
      "text/html": [
       "<div>\n",
       "<style scoped>\n",
       "    .dataframe tbody tr th:only-of-type {\n",
       "        vertical-align: middle;\n",
       "    }\n",
       "\n",
       "    .dataframe tbody tr th {\n",
       "        vertical-align: top;\n",
       "    }\n",
       "\n",
       "    .dataframe thead th {\n",
       "        text-align: right;\n",
       "    }\n",
       "</style>\n",
       "<table border=\"1\" class=\"dataframe\">\n",
       "  <thead>\n",
       "    <tr style=\"text-align: right;\">\n",
       "      <th></th>\n",
       "      <th>AddressCount</th>\n",
       "      <th>CallsCount</th>\n",
       "      <th>ClicksCount</th>\n",
       "      <th>UsersCount</th>\n",
       "      <th>Distance</th>\n",
       "      <th>cluster</th>\n",
       "    </tr>\n",
       "  </thead>\n",
       "  <tbody>\n",
       "    <tr>\n",
       "      <th>0</th>\n",
       "      <td>156</td>\n",
       "      <td>20</td>\n",
       "      <td>1903</td>\n",
       "      <td>1125</td>\n",
       "      <td>749.966084</td>\n",
       "      <td>0</td>\n",
       "    </tr>\n",
       "    <tr>\n",
       "      <th>1</th>\n",
       "      <td>17</td>\n",
       "      <td>37</td>\n",
       "      <td>258</td>\n",
       "      <td>157</td>\n",
       "      <td>2289.032424</td>\n",
       "      <td>0</td>\n",
       "    </tr>\n",
       "    <tr>\n",
       "      <th>2</th>\n",
       "      <td>78</td>\n",
       "      <td>56</td>\n",
       "      <td>1956</td>\n",
       "      <td>1195</td>\n",
       "      <td>1423.376512</td>\n",
       "      <td>0</td>\n",
       "    </tr>\n",
       "    <tr>\n",
       "      <th>3</th>\n",
       "      <td>14</td>\n",
       "      <td>70</td>\n",
       "      <td>378</td>\n",
       "      <td>206</td>\n",
       "      <td>3396.566089</td>\n",
       "      <td>0</td>\n",
       "    </tr>\n",
       "    <tr>\n",
       "      <th>4</th>\n",
       "      <td>111</td>\n",
       "      <td>90</td>\n",
       "      <td>4089</td>\n",
       "      <td>2934</td>\n",
       "      <td>1576.514154</td>\n",
       "      <td>0</td>\n",
       "    </tr>\n",
       "  </tbody>\n",
       "</table>\n",
       "</div>"
      ],
      "text/plain": [
       "   AddressCount  CallsCount  ClicksCount  UsersCount     Distance  cluster\n",
       "0           156          20         1903        1125   749.966084        0\n",
       "1            17          37          258         157  2289.032424        0\n",
       "2            78          56         1956        1195  1423.376512        0\n",
       "3            14          70          378         206  3396.566089        0\n",
       "4           111          90         4089        2934  1576.514154        0"
      ]
     },
     "execution_count": 146,
     "metadata": {},
     "output_type": "execute_result"
    }
   ],
   "source": [
    "data.head()"
   ]
  },
  {
   "cell_type": "code",
   "execution_count": 147,
   "metadata": {
    "scrolled": true
   },
   "outputs": [
    {
     "data": {
      "text/plain": [
       "{'whiskers': [<matplotlib.lines.Line2D at 0x1e4223b1908>,\n",
       "  <matplotlib.lines.Line2D at 0x1e4223b1fc8>,\n",
       "  <matplotlib.lines.Line2D at 0x1e4223c2388>,\n",
       "  <matplotlib.lines.Line2D at 0x1e4223c2808>,\n",
       "  <matplotlib.lines.Line2D at 0x1e4223d9a08>,\n",
       "  <matplotlib.lines.Line2D at 0x1e4223d4348>],\n",
       " 'caps': [<matplotlib.lines.Line2D at 0x1e4223b7e08>,\n",
       "  <matplotlib.lines.Line2D at 0x1e4223b7288>,\n",
       "  <matplotlib.lines.Line2D at 0x1e4223c7ec8>,\n",
       "  <matplotlib.lines.Line2D at 0x1e4223c7708>,\n",
       "  <matplotlib.lines.Line2D at 0x1e4223de1c8>,\n",
       "  <matplotlib.lines.Line2D at 0x1e4223d9c48>],\n",
       " 'boxes': [<matplotlib.lines.Line2D at 0x1e4222d2748>,\n",
       "  <matplotlib.lines.Line2D at 0x1e4223b18c8>,\n",
       "  <matplotlib.lines.Line2D at 0x1e4223d4d08>],\n",
       " 'medians': [<matplotlib.lines.Line2D at 0x1e4223bdd88>,\n",
       "  <matplotlib.lines.Line2D at 0x1e4223cedc8>,\n",
       "  <matplotlib.lines.Line2D at 0x1e4223de948>],\n",
       " 'fliers': [<matplotlib.lines.Line2D at 0x1e4223bd408>,\n",
       "  <matplotlib.lines.Line2D at 0x1e4223ceb88>,\n",
       "  <matplotlib.lines.Line2D at 0x1e4223e5148>],\n",
       " 'means': []}"
      ]
     },
     "execution_count": 147,
     "metadata": {},
     "output_type": "execute_result"
    },
    {
     "data": {
      "image/png": "[encoded data removed]",
      "text/plain": [
       "<Figure size 1152x288 with 5 Axes>"
      ]
     },
     "metadata": {
      "needs_background": "light"
     },
     "output_type": "display_data"
    }
   ],
   "source": [
    "\n",
    "_, axes = plt.subplots(ncols=5, figsize = (16,4))\n",
    "axes[0].boxplot([data[data['cluster'] == 0]['AddressCount'], data[data['cluster'] == 1]['AddressCount'], data[data['cluster'] == 2]['AddressCount']])\n",
    "axes[1].boxplot([data[data['cluster'] == 0]['CallsCount'], data[data['cluster'] == 1]['CallsCount'], data[data['cluster'] == 2]['CallsCount']])\n",
    "axes[2].boxplot([data[data['cluster'] == 0]['ClicksCount'], data[data['cluster'] == 1]['ClicksCount'], data[data['cluster'] == 2]['ClicksCount']])\n",
    "axes[3].boxplot([data[data['cluster'] == 0]['UsersCount'], data[data['cluster'] == 1]['UsersCount'], data[data['cluster'] == 2]['UsersCount']])\n",
    "axes[4].boxplot([data[data['cluster'] == 0]['Distance'], data[data['cluster'] == 1]['Distance'], data[data['cluster'] == 2]['Distance']])\n",
    "\n",
    "\n"
   ]
  },
  {
   "cell_type": "code",
   "execution_count": 148,
   "metadata": {},
   "outputs": [
    {
     "data": {
      "text/plain": [
       "([array([5., 7., 6., 7., 7., 5., 7., 1., 3., 2.]),\n",
       "  array([5., 4., 1., 2., 3., 1., 0., 0., 0., 1.]),\n",
       "  array([2., 1., 4., 1., 1., 0., 0., 0., 0., 0.])],\n",
       " array([ 714.7872362 , 1272.52924372, 1830.27125124, 2388.01325876,\n",
       "        2945.75526628, 3503.49727379, 4061.23928131, 4618.98128883,\n",
       "        5176.72329635, 5734.46530387, 6292.20731139]),\n",
       " <a list of 3 Lists of Patches objects>)"
      ]
     },
     "execution_count": 148,
     "metadata": {},
     "output_type": "execute_result"
    },
    {
     "data": {
      "image/png": "[encoded data removed]",
      "text/plain": [
       "<Figure size 1152x288 with 5 Axes>"
      ]
     },
     "metadata": {
      "needs_background": "light"
     },
     "output_type": "display_data"
    }
   ],
   "source": [
    "_, axes = plt.subplots(ncols=5, figsize = (16,4))\n",
    "axes[0].hist([data[data['cluster'] == 0]['AddressCount'], data[data['cluster'] == 1]['AddressCount'], data[data['cluster'] == 2]['AddressCount']])\n",
    "axes[1].hist([data[data['cluster'] == 0]['CallsCount'], data[data['cluster'] == 1]['CallsCount'], data[data['cluster'] == 2]['CallsCount']])\n",
    "axes[2].hist([data[data['cluster'] == 0]['ClicksCount'], data[data['cluster'] == 1]['ClicksCount'], data[data['cluster'] == 2]['ClicksCount']])\n",
    "axes[3].hist([data[data['cluster'] == 0]['UsersCount'], data[data['cluster'] == 1]['UsersCount'], data[data['cluster'] == 2]['UsersCount']])\n",
    "axes[4].hist([data[data['cluster'] == 0]['Distance'], data[data['cluster'] == 1]['Distance'], data[data['cluster'] == 2]['Distance']])"
   ]
  },
  {
   "cell_type": "markdown",
   "metadata": {},
   "source": [
    "Как мы видим из распределения, наибольший вклад в разбиение на кластеры вносят параметры AddressCount, ClicksCount, UsersCount. Предположим, что остальные переменные можно не учитывать при кластеризации, поскольку как видно на гистограмме и ящике с усами их распределения пересекаются. Вернемся к этому чуть позже (1)"
   ]
  },
  {
   "cell_type": "markdown",
   "metadata": {},
   "source": [
    "Мы можем сказать исходя из графиков, что кластеры разбились на 3 категории в зависимости от популярности. Это наблюдается на всех гистограммах по признакам, отображающим к-во взаимодействий с фирмой. Ожидаемо кластеры разбиты так:\n",
    "- Непопулярный - большинство\n",
    "- Средний - среднее к-во объектов\n",
    "- Топ - меньшинство"
   ]
  },
  {
   "cell_type": "markdown",
   "metadata": {},
   "source": [
    "Проверим сначала наше предположение с помощью критерия Крускала-Уоллиса(поскольку данные ненормальны) о равенстве средних во всех кластерах:"
   ]
  },
  {
   "cell_type": "code",
   "execution_count": 168,
   "metadata": {},
   "outputs": [],
   "source": [
    "from scipy.stats import kruskal"
   ]
  },
  {
   "cell_type": "code",
   "execution_count": 173,
   "metadata": {},
   "outputs": [],
   "source": [
    "_, alpha0 = kruskal(data[data['cluster'] == 0]['AddressCount'], data[data['cluster'] == 1]['AddressCount'],  data[data['cluster'] == 2]['AddressCount'])\n",
    "_, alpha1 = kruskal(data[data['cluster'] == 0]['CallsCount'], data[data['cluster'] == 1]['CallsCount'],  data[data['cluster'] == 2]['CallsCount'])\n",
    "_, alpha2 = kruskal(data[data['cluster'] == 0]['ClicksCount'], data[data['cluster'] == 1]['ClicksCount'],  data[data['cluster'] == 2]['ClicksCount'])\n",
    "_, alpha3 = kruskal(data[data['cluster'] == 0]['UsersCount'], data[data['cluster'] == 1]['UsersCount'],  data[data['cluster'] == 2]['UsersCount'])\n",
    "_, alpha4 = kruskal(data[data['cluster'] == 0]['Distance'], data[data['cluster'] == 1]['Distance'],  data[data['cluster'] == 2]['Distance'])"
   ]
  },
  {
   "cell_type": "code",
   "execution_count": 174,
   "metadata": {},
   "outputs": [
    {
     "data": {
      "text/plain": [
       "(4.1161142239024165e-12,\n",
       " 2.1767169281226076e-10,\n",
       " 3.6207978062510867e-12,\n",
       " 4.265180981876524e-12,\n",
       " 0.0171171820182455)"
      ]
     },
     "execution_count": 174,
     "metadata": {},
     "output_type": "execute_result"
    }
   ],
   "source": [
    "alpha0, alpha1, alpha2, alpha3, alpha4,"
   ]
  },
  {
   "cell_type": "markdown",
   "metadata": {},
   "source": [
    "Заметим, что по всем показателям p-value статистики < 0.05 и мы отвергаем гипотезы, что все групповые средние равны по нашим показателям."
   ]
  },
  {
   "cell_type": "markdown",
   "metadata": {},
   "source": [
    "Поскольку для 1, 3, 4 параметра разделение средних видно еще из гистограммы и boxplot'a, то проверим равенство средних во 2 и 5 случаях критерием Манна-Уитни(т.к распределения ненормальны):"
   ]
  },
  {
   "cell_type": "code",
   "execution_count": 175,
   "metadata": {},
   "outputs": [],
   "source": [
    "from scipy.stats import mannwhitneyu"
   ]
  },
  {
   "cell_type": "code",
   "execution_count": 176,
   "metadata": {},
   "outputs": [
    {
     "data": {
      "text/plain": [
       "(1.0854167429998915e-08, 0.029621331113086208, 2.771135224405998e-06)"
      ]
     },
     "execution_count": 176,
     "metadata": {},
     "output_type": "execute_result"
    }
   ],
   "source": [
    "_, value0 = mannwhitneyu(data[data['cluster'] == 0]['CallsCount'], data[data['cluster'] == 1]['CallsCount'])\n",
    "_, value1 = mannwhitneyu(data[data['cluster'] == 1]['CallsCount'], data[data['cluster'] == 2]['CallsCount'])\n",
    "_, value2 = mannwhitneyu(data[data['cluster'] == 0]['CallsCount'], data[data['cluster'] == 2]['CallsCount'])\n",
    "value0, value1, value2"
   ]
  },
  {
   "cell_type": "code",
   "execution_count": 177,
   "metadata": {},
   "outputs": [
    {
     "data": {
      "text/plain": [
       "(0.010372142125074243, 0.5, 0.018920986351833695)"
      ]
     },
     "execution_count": 177,
     "metadata": {},
     "output_type": "execute_result"
    }
   ],
   "source": [
    "_, value0 = mannwhitneyu(data[data['cluster'] == 0]['Distance'], data[data['cluster'] == 1]['Distance'])\n",
    "_, value1 = mannwhitneyu(data[data['cluster'] == 1]['Distance'], data[data['cluster'] == 2]['Distance'])\n",
    "_, value2 = mannwhitneyu(data[data['cluster'] == 0]['Distance'], data[data['cluster'] == 2]['Distance'])\n",
    "value0, value1, value2"
   ]
  },
  {
   "cell_type": "markdown",
   "metadata": {},
   "source": [
    "Как мы видим из p-value, данные средние всех 3 классов по CallsCount различны, а вот про Distance такое сказать нельзя. Таким образом, вернемся к (1) и скажем, что переменная Distance слабо влияет на кластеризацию и в нашем случае может быть исключена как параметр кластеризации."
   ]
  },
  {
   "cell_type": "markdown",
   "metadata": {},
   "source": [
    "### Сравним кластеры по доле траффика с карты и мобильного продукта"
   ]
  },
  {
   "cell_type": "code",
   "execution_count": 149,
   "metadata": {},
   "outputs": [],
   "source": [
    "data_2 = pd.read_csv('Data_Projects.csv', ';', decimal=',')"
   ]
  },
  {
   "cell_type": "code",
   "execution_count": 150,
   "metadata": {},
   "outputs": [],
   "source": [
    "data_2 = data_2[(data_2['CallsCount'] < 30000) & (data_2['AddressCount'] < 8000)]"
   ]
  },
  {
   "cell_type": "code",
   "execution_count": 155,
   "metadata": {},
   "outputs": [
    {
     "name": "stdout",
     "output_type": "stream",
     "text": [
      "(76, 10) (76,)\n"
     ]
    }
   ],
   "source": [
    "print(data_2.shape, predictions.shape)"
   ]
  },
  {
   "cell_type": "code",
   "execution_count": 156,
   "metadata": {},
   "outputs": [],
   "source": [
    "data_2['Cluster'] = predictions"
   ]
  },
  {
   "cell_type": "code",
   "execution_count": 159,
   "metadata": {},
   "outputs": [
    {
     "data": {
      "text/html": [
       "<div>\n",
       "<style scoped>\n",
       "    .dataframe tbody tr th:only-of-type {\n",
       "        vertical-align: middle;\n",
       "    }\n",
       "\n",
       "    .dataframe tbody tr th {\n",
       "        vertical-align: top;\n",
       "    }\n",
       "\n",
       "    .dataframe thead th {\n",
       "        text-align: right;\n",
       "    }\n",
       "</style>\n",
       "<table border=\"1\" class=\"dataframe\">\n",
       "  <thead>\n",
       "    <tr style=\"text-align: right;\">\n",
       "      <th></th>\n",
       "      <th>AddressCount</th>\n",
       "      <th>CallsCount</th>\n",
       "      <th>ClicksCount</th>\n",
       "      <th>FirmsCount</th>\n",
       "      <th>GeoPart</th>\n",
       "      <th>MobilePart</th>\n",
       "      <th>UsersCount</th>\n",
       "      <th>Distance</th>\n",
       "      <th>IsGeo</th>\n",
       "      <th>Cluster</th>\n",
       "    </tr>\n",
       "  </thead>\n",
       "  <tbody>\n",
       "    <tr>\n",
       "      <th>0</th>\n",
       "      <td>156</td>\n",
       "      <td>20</td>\n",
       "      <td>1903</td>\n",
       "      <td>176</td>\n",
       "      <td>0.416104</td>\n",
       "      <td>0.535762</td>\n",
       "      <td>1125</td>\n",
       "      <td>749.966084</td>\n",
       "      <td>1</td>\n",
       "      <td>0</td>\n",
       "    </tr>\n",
       "    <tr>\n",
       "      <th>1</th>\n",
       "      <td>17</td>\n",
       "      <td>37</td>\n",
       "      <td>258</td>\n",
       "      <td>20</td>\n",
       "      <td>0.211679</td>\n",
       "      <td>0.430657</td>\n",
       "      <td>157</td>\n",
       "      <td>2289.032424</td>\n",
       "      <td>0</td>\n",
       "      <td>0</td>\n",
       "    </tr>\n",
       "    <tr>\n",
       "      <th>2</th>\n",
       "      <td>78</td>\n",
       "      <td>56</td>\n",
       "      <td>1956</td>\n",
       "      <td>185</td>\n",
       "      <td>0.349475</td>\n",
       "      <td>0.476594</td>\n",
       "      <td>1195</td>\n",
       "      <td>1423.376512</td>\n",
       "      <td>1</td>\n",
       "      <td>0</td>\n",
       "    </tr>\n",
       "    <tr>\n",
       "      <th>3</th>\n",
       "      <td>14</td>\n",
       "      <td>70</td>\n",
       "      <td>378</td>\n",
       "      <td>19</td>\n",
       "      <td>0.318718</td>\n",
       "      <td>0.463744</td>\n",
       "      <td>206</td>\n",
       "      <td>3396.566089</td>\n",
       "      <td>0</td>\n",
       "      <td>0</td>\n",
       "    </tr>\n",
       "    <tr>\n",
       "      <th>4</th>\n",
       "      <td>111</td>\n",
       "      <td>90</td>\n",
       "      <td>4089</td>\n",
       "      <td>90</td>\n",
       "      <td>0.556175</td>\n",
       "      <td>0.490573</td>\n",
       "      <td>2934</td>\n",
       "      <td>1576.514154</td>\n",
       "      <td>1</td>\n",
       "      <td>0</td>\n",
       "    </tr>\n",
       "  </tbody>\n",
       "</table>\n",
       "</div>"
      ],
      "text/plain": [
       "   AddressCount  CallsCount  ClicksCount  FirmsCount   GeoPart  MobilePart  \\\n",
       "0           156          20         1903         176  0.416104    0.535762   \n",
       "1            17          37          258          20  0.211679    0.430657   \n",
       "2            78          56         1956         185  0.349475    0.476594   \n",
       "3            14          70          378          19  0.318718    0.463744   \n",
       "4           111          90         4089          90  0.556175    0.490573   \n",
       "\n",
       "   UsersCount     Distance  IsGeo  Cluster  \n",
       "0        1125   749.966084      1        0  \n",
       "1         157  2289.032424      0        0  \n",
       "2        1195  1423.376512      1        0  \n",
       "3         206  3396.566089      0        0  \n",
       "4        2934  1576.514154      1        0  "
      ]
     },
     "execution_count": 159,
     "metadata": {},
     "output_type": "execute_result"
    }
   ],
   "source": [
    "data_2.head()"
   ]
  },
  {
   "cell_type": "code",
   "execution_count": 161,
   "metadata": {},
   "outputs": [
    {
     "data": {
      "text/plain": [
       "{'whiskers': [<matplotlib.lines.Line2D at 0x1e422f92808>,\n",
       "  <matplotlib.lines.Line2D at 0x1e422f92e48>,\n",
       "  <matplotlib.lines.Line2D at 0x1e422f98dc8>,\n",
       "  <matplotlib.lines.Line2D at 0x1e422f988c8>,\n",
       "  <matplotlib.lines.Line2D at 0x1e422faff48>,\n",
       "  <matplotlib.lines.Line2D at 0x1e422fa7f88>],\n",
       " 'caps': [<matplotlib.lines.Line2D at 0x1e422f92f08>,\n",
       "  <matplotlib.lines.Line2D at 0x1e422f92548>,\n",
       "  <matplotlib.lines.Line2D at 0x1e422fa0fc8>,\n",
       "  <matplotlib.lines.Line2D at 0x1e422fa0c48>,\n",
       "  <matplotlib.lines.Line2D at 0x1e422fb7508>,\n",
       "  <matplotlib.lines.Line2D at 0x1e422fb7c08>],\n",
       " 'boxes': [<matplotlib.lines.Line2D at 0x1e422f0b9c8>,\n",
       "  <matplotlib.lines.Line2D at 0x1e422f8dd08>,\n",
       "  <matplotlib.lines.Line2D at 0x1e422fa0608>],\n",
       " 'medians': [<matplotlib.lines.Line2D at 0x1e422f98a08>,\n",
       "  <matplotlib.lines.Line2D at 0x1e422fa7508>,\n",
       "  <matplotlib.lines.Line2D at 0x1e422fb7a48>],\n",
       " 'fliers': [<matplotlib.lines.Line2D at 0x1e422f982c8>,\n",
       "  <matplotlib.lines.Line2D at 0x1e422fa7a48>,\n",
       "  <matplotlib.lines.Line2D at 0x1e422fbe048>],\n",
       " 'means': []}"
      ]
     },
     "execution_count": 161,
     "metadata": {},
     "output_type": "execute_result"
    },
    {
     "data": {
      "image/png": "[encoded data removed]",
      "text/plain": [
       "<Figure size 1152x288 with 2 Axes>"
      ]
     },
     "metadata": {
      "needs_background": "light"
     },
     "output_type": "display_data"
    }
   ],
   "source": [
    "_, axes = plt.subplots(ncols=2, figsize=(16, 4))\n",
    "axes[0].boxplot([data_2[data_2['Cluster'] == 0]['MobilePart'], data_2[data_2['Cluster'] == 1]['MobilePart'], data_2[data_2['Cluster'] == 2]['MobilePart']])\n",
    "axes[1].boxplot([data_2[data_2['Cluster'] == 0]['GeoPart'], data_2[data_2['Cluster'] == 1]['GeoPart'], data_2[data_2['Cluster'] == 2]['GeoPart']])"
   ]
  },
  {
   "cell_type": "markdown",
   "metadata": {},
   "source": [
    "Видим, что распределения наших групп несколько различаются. Проверим равенство групповых средних с помощью критерия Краскала-Уоллиса:"
   ]
  },
  {
   "cell_type": "code",
   "execution_count": 180,
   "metadata": {},
   "outputs": [
    {
     "data": {
      "text/plain": [
       "(0.0009905140255674642, 0.010798844825943385)"
      ]
     },
     "execution_count": 180,
     "metadata": {},
     "output_type": "execute_result"
    }
   ],
   "source": [
    "_, alpha0 = kruskal(data_2[data_2['Cluster'] == 0]['MobilePart'], data_2[data_2['Cluster'] == 1]['MobilePart'],  data_2[data_2['Cluster'] == 2]['MobilePart'])\n",
    "_, alpha1 = kruskal(data_2[data_2['Cluster'] == 0]['GeoPart'], data_2[data_2['Cluster'] == 1]['GeoPart'],  data_2[data_2['Cluster'] == 2]['GeoPart'])\n",
    "alpha0, alpha1"
   ]
  },
  {
   "cell_type": "markdown",
   "metadata": {},
   "source": [
    "Данный уровень значимости отвергает гипотезу о равенстве средних во всех группах. Сравним погруппово с помощью критерия Манна-Уитни:"
   ]
  },
  {
   "cell_type": "code",
   "execution_count": 181,
   "metadata": {},
   "outputs": [
    {
     "data": {
      "text/plain": [
       "(0.004650580237087045, 0.08055965816871613, 0.0012421563976341642)"
      ]
     },
     "execution_count": 181,
     "metadata": {},
     "output_type": "execute_result"
    }
   ],
   "source": [
    "_, value0 = mannwhitneyu(data_2[data_2['Cluster'] == 0]['MobilePart'], data_2[data_2['Cluster'] == 1]['MobilePart'])\n",
    "_, value1 = mannwhitneyu(data_2[data_2['Cluster'] == 1]['MobilePart'], data_2[data_2['Cluster'] == 2]['MobilePart'])\n",
    "_, value2 = mannwhitneyu(data_2[data_2['Cluster'] == 0]['MobilePart'], data_2[data_2['Cluster'] == 2]['MobilePart'])\n",
    "value0, value1, value2"
   ]
  },
  {
   "cell_type": "markdown",
   "metadata": {},
   "source": [
    "Мы можем заметить, что нельзя отвергнуть гипотезу о равенстве средних в 2 и 3 кластерах. При этом попарное равенство средних в (1, 2), (1,3) кластерах отвергается"
   ]
  },
  {
   "cell_type": "code",
   "execution_count": 182,
   "metadata": {},
   "outputs": [
    {
     "data": {
      "text/plain": [
       "(0.0013957169246832512, 0.07280504769843348, 0.25332009623466245)"
      ]
     },
     "execution_count": 182,
     "metadata": {},
     "output_type": "execute_result"
    }
   ],
   "source": [
    "_, value0 = mannwhitneyu(data_2[data_2['Cluster'] == 0]['GeoPart'], data_2[data_2['Cluster'] == 1]['GeoPart'])\n",
    "_, value1 = mannwhitneyu(data_2[data_2['Cluster'] == 1]['GeoPart'], data_2[data_2['Cluster'] == 2]['GeoPart'])\n",
    "_, value2 = mannwhitneyu(data_2[data_2['Cluster'] == 0]['GeoPart'], data_2[data_2['Cluster'] == 2]['GeoPart'])\n",
    "value0, value1, value2"
   ]
  },
  {
   "cell_type": "markdown",
   "metadata": {},
   "source": [
    "Заметим, что для признака GeoPart мы уже не можем отвергнуть гипотезу о попарном равенстве средних в (2, 3) и (1, 3) кластерах. При этом гипотеза о равенстве средних в (1, 2) кластерах отвергается "
   ]
  },
  {
   "cell_type": "markdown",
   "metadata": {},
   "source": [
    "При этом для проверки равенства (2, 3) кластеров необходимо больше данных, поскольку boxplot'ы не похожи и возможно принятие гипотезы из-за малой наполненности кластеров(17 и 9 объектов соответственно)"
   ]
  },
  {
   "cell_type": "markdown",
   "metadata": {},
   "source": [
    "#### Проверим гипотезу о том, что с мобильной версии заходят чаще, чем на сайт:"
   ]
  },
  {
   "cell_type": "code",
   "execution_count": 186,
   "metadata": {},
   "outputs": [
    {
     "data": {
      "text/plain": [
       "2.8893583676575497e-06"
      ]
     },
     "execution_count": 186,
     "metadata": {},
     "output_type": "execute_result"
    }
   ],
   "source": [
    "_, value1 = mannwhitneyu(data_2['GeoPart'], data_2['MobilePart'], alternative='less')\n",
    "value1"
   ]
  },
  {
   "cell_type": "markdown",
   "metadata": {},
   "source": [
    "Гипотеза о равенстве средних, при альтернативной о том, что в среднем MobilePart > GeoPart, отвергается. "
   ]
  },
  {
   "cell_type": "markdown",
   "metadata": {},
   "source": [
    "## Вывод:"
   ]
  },
  {
   "cell_type": "markdown",
   "metadata": {},
   "source": [
    "Нами выделено 3 кластера(непопулярные места, объекты средней популярности и топовые заведения). Наполненность данных кластеров обратно пропорциональна популярности мест.\n",
    "\n",
    "Данные кластеры отличны друг от друга по параметрам: AddressCount, CallsCount, ClicksCount, UsersCount (прямо пропорционально популярности мест). \n",
    "Нами не получено сильных статистических различий между кластерами по параметру Distance. \n",
    "\n",
    "Можно заметить, что показатели GeoPart и MobilePart различны для разных групп. С мобильной версии люди заходят преимущественно на популярные фирмы. С сайта отдается предпочтение местам средней популярности. \n",
    "\n",
    "Также стоит отметить, что мобильное приложение используется чаще, чем сайт. "
   ]
  }
 ],
 "metadata": {
  "kernelspec": {
   "display_name": "Python 3",
   "language": "python",
   "name": "python3"
  },
  "language_info": {
   "codemirror_mode": {
    "name": "ipython",
    "version": 3
   },
   "file_extension": ".py",
   "mimetype": "text/x-python",
   "name": "python",
   "nbconvert_exporter": "python",
   "pygments_lexer": "ipython3",
   "version": "3.7.6"
  }
 },
 "nbformat": 4,
 "nbformat_minor": 4
}
