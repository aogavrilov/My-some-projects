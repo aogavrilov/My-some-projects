{
 "cells": [
  {
   "cell_type": "markdown",
   "metadata": {},
   "source": [
    "### Задание"
   ]
  },
  {
   "cell_type": "markdown",
   "metadata": {},
   "source": [
    "Используя приложенный файл данных, выполните следующие задания:\n",
    "\n",
    "- Оцените, какие признаки вносят значимый вклад в разделение рубрик на геозависимые и геонезависимые, и оставьте для включения в модель только те, которые значимо дифференцируют рубрики.\n",
    "- Выберите две модельи наиболее, на Ваш взгляд, подходящие для решения задачи классификации рубрик. Кратко (1-2 абзаца) обоснуйте свой выбор.\n",
    "- Постройте первую из двух выбранных моделей, кратко охарактеризуйте вклад отдельных признаков в \"судьбу\" рубрики: что \"способствует\" геозависимости, а что, напротив, освобождает рубрику от территориальной привязки?\n",
    "- Постройте вторую модель, сравните результат, полученный на разных моделях.\n",
    "- Коротко (на 1-2 абзаца) объясните различия в результате, если таковые будут выявлены.\n",
    "- Постройте прогноз для нескольких (2-3) рубрик: в какой класс они попадут и с какой вероятностью?"
   ]
  },
  {
   "cell_type": "markdown",
   "metadata": {},
   "source": [
    "### Данные"
   ]
  },
  {
   "cell_type": "markdown",
   "metadata": {},
   "source": [
    "Посмотрим на данные, построим графики, оценим признаки"
   ]
  },
  {
   "cell_type": "code",
   "execution_count": 79,
   "metadata": {},
   "outputs": [],
   "source": [
    "import pandas as pd\n",
    "data = pd.read_csv(\"Data_Projects.csv\", sep=';', decimal=',')"
   ]
  },
  {
   "cell_type": "code",
   "execution_count": 80,
   "metadata": {},
   "outputs": [
    {
     "data": {
      "text/html": [
       "<div>\n",
       "<style scoped>\n",
       "    .dataframe tbody tr th:only-of-type {\n",
       "        vertical-align: middle;\n",
       "    }\n",
       "\n",
       "    .dataframe tbody tr th {\n",
       "        vertical-align: top;\n",
       "    }\n",
       "\n",
       "    .dataframe thead th {\n",
       "        text-align: right;\n",
       "    }\n",
       "</style>\n",
       "<table border=\"1\" class=\"dataframe\">\n",
       "  <thead>\n",
       "    <tr style=\"text-align: right;\">\n",
       "      <th></th>\n",
       "      <th>AddressCount</th>\n",
       "      <th>CallsCount</th>\n",
       "      <th>ClicksCount</th>\n",
       "      <th>FirmsCount</th>\n",
       "      <th>GeoPart</th>\n",
       "      <th>MobilePart</th>\n",
       "      <th>UsersCount</th>\n",
       "      <th>Distance</th>\n",
       "      <th>IsGeo</th>\n",
       "    </tr>\n",
       "  </thead>\n",
       "  <tbody>\n",
       "    <tr>\n",
       "      <th>0</th>\n",
       "      <td>156</td>\n",
       "      <td>20</td>\n",
       "      <td>1903</td>\n",
       "      <td>176</td>\n",
       "      <td>0.416104</td>\n",
       "      <td>0.535762</td>\n",
       "      <td>1125</td>\n",
       "      <td>749.966084</td>\n",
       "      <td>1</td>\n",
       "    </tr>\n",
       "    <tr>\n",
       "      <th>1</th>\n",
       "      <td>17</td>\n",
       "      <td>37</td>\n",
       "      <td>258</td>\n",
       "      <td>20</td>\n",
       "      <td>0.211679</td>\n",
       "      <td>0.430657</td>\n",
       "      <td>157</td>\n",
       "      <td>2289.032424</td>\n",
       "      <td>0</td>\n",
       "    </tr>\n",
       "    <tr>\n",
       "      <th>2</th>\n",
       "      <td>78</td>\n",
       "      <td>56</td>\n",
       "      <td>1956</td>\n",
       "      <td>185</td>\n",
       "      <td>0.349475</td>\n",
       "      <td>0.476594</td>\n",
       "      <td>1195</td>\n",
       "      <td>1423.376512</td>\n",
       "      <td>1</td>\n",
       "    </tr>\n",
       "    <tr>\n",
       "      <th>3</th>\n",
       "      <td>14</td>\n",
       "      <td>70</td>\n",
       "      <td>378</td>\n",
       "      <td>19</td>\n",
       "      <td>0.318718</td>\n",
       "      <td>0.463744</td>\n",
       "      <td>206</td>\n",
       "      <td>3396.566089</td>\n",
       "      <td>0</td>\n",
       "    </tr>\n",
       "    <tr>\n",
       "      <th>4</th>\n",
       "      <td>111</td>\n",
       "      <td>90</td>\n",
       "      <td>4089</td>\n",
       "      <td>90</td>\n",
       "      <td>0.556175</td>\n",
       "      <td>0.490573</td>\n",
       "      <td>2934</td>\n",
       "      <td>1576.514154</td>\n",
       "      <td>1</td>\n",
       "    </tr>\n",
       "    <tr>\n",
       "      <th>...</th>\n",
       "      <td>...</td>\n",
       "      <td>...</td>\n",
       "      <td>...</td>\n",
       "      <td>...</td>\n",
       "      <td>...</td>\n",
       "      <td>...</td>\n",
       "      <td>...</td>\n",
       "      <td>...</td>\n",
       "      <td>...</td>\n",
       "    </tr>\n",
       "    <tr>\n",
       "      <th>74</th>\n",
       "      <td>2535</td>\n",
       "      <td>12436</td>\n",
       "      <td>44597</td>\n",
       "      <td>113</td>\n",
       "      <td>0.364710</td>\n",
       "      <td>0.388519</td>\n",
       "      <td>11172</td>\n",
       "      <td>1908.108110</td>\n",
       "      <td>0</td>\n",
       "    </tr>\n",
       "    <tr>\n",
       "      <th>75</th>\n",
       "      <td>1103</td>\n",
       "      <td>12805</td>\n",
       "      <td>33388</td>\n",
       "      <td>411</td>\n",
       "      <td>0.415795</td>\n",
       "      <td>0.549773</td>\n",
       "      <td>13911</td>\n",
       "      <td>2642.200165</td>\n",
       "      <td>0</td>\n",
       "    </tr>\n",
       "    <tr>\n",
       "      <th>76</th>\n",
       "      <td>3132</td>\n",
       "      <td>20609</td>\n",
       "      <td>75303</td>\n",
       "      <td>409</td>\n",
       "      <td>0.308071</td>\n",
       "      <td>0.470916</td>\n",
       "      <td>23982</td>\n",
       "      <td>2278.162917</td>\n",
       "      <td>0</td>\n",
       "    </tr>\n",
       "    <tr>\n",
       "      <th>77</th>\n",
       "      <td>5740</td>\n",
       "      <td>47912</td>\n",
       "      <td>167155</td>\n",
       "      <td>1457</td>\n",
       "      <td>0.427646</td>\n",
       "      <td>0.595409</td>\n",
       "      <td>61127</td>\n",
       "      <td>989.412139</td>\n",
       "      <td>0</td>\n",
       "    </tr>\n",
       "    <tr>\n",
       "      <th>78</th>\n",
       "      <td>6037</td>\n",
       "      <td>48497</td>\n",
       "      <td>149920</td>\n",
       "      <td>1157</td>\n",
       "      <td>0.431926</td>\n",
       "      <td>0.524850</td>\n",
       "      <td>58351</td>\n",
       "      <td>918.713972</td>\n",
       "      <td>1</td>\n",
       "    </tr>\n",
       "  </tbody>\n",
       "</table>\n",
       "<p>79 rows × 9 columns</p>\n",
       "</div>"
      ],
      "text/plain": [
       "    AddressCount  CallsCount  ClicksCount  FirmsCount   GeoPart  MobilePart  \\\n",
       "0            156          20         1903         176  0.416104    0.535762   \n",
       "1             17          37          258          20  0.211679    0.430657   \n",
       "2             78          56         1956         185  0.349475    0.476594   \n",
       "3             14          70          378          19  0.318718    0.463744   \n",
       "4            111          90         4089          90  0.556175    0.490573   \n",
       "..           ...         ...          ...         ...       ...         ...   \n",
       "74          2535       12436        44597         113  0.364710    0.388519   \n",
       "75          1103       12805        33388         411  0.415795    0.549773   \n",
       "76          3132       20609        75303         409  0.308071    0.470916   \n",
       "77          5740       47912       167155        1457  0.427646    0.595409   \n",
       "78          6037       48497       149920        1157  0.431926    0.524850   \n",
       "\n",
       "    UsersCount     Distance  IsGeo  \n",
       "0         1125   749.966084      1  \n",
       "1          157  2289.032424      0  \n",
       "2         1195  1423.376512      1  \n",
       "3          206  3396.566089      0  \n",
       "4         2934  1576.514154      1  \n",
       "..         ...          ...    ...  \n",
       "74       11172  1908.108110      0  \n",
       "75       13911  2642.200165      0  \n",
       "76       23982  2278.162917      0  \n",
       "77       61127   989.412139      0  \n",
       "78       58351   918.713972      1  \n",
       "\n",
       "[79 rows x 9 columns]"
      ]
     },
     "execution_count": 80,
     "metadata": {},
     "output_type": "execute_result"
    }
   ],
   "source": [
    "data"
   ]
  },
  {
   "cell_type": "code",
   "execution_count": 81,
   "metadata": {},
   "outputs": [
    {
     "data": {
      "text/html": [
       "<div>\n",
       "<style scoped>\n",
       "    .dataframe tbody tr th:only-of-type {\n",
       "        vertical-align: middle;\n",
       "    }\n",
       "\n",
       "    .dataframe tbody tr th {\n",
       "        vertical-align: top;\n",
       "    }\n",
       "\n",
       "    .dataframe thead th {\n",
       "        text-align: right;\n",
       "    }\n",
       "</style>\n",
       "<table border=\"1\" class=\"dataframe\">\n",
       "  <thead>\n",
       "    <tr style=\"text-align: right;\">\n",
       "      <th></th>\n",
       "      <th>AddressCount</th>\n",
       "      <th>CallsCount</th>\n",
       "      <th>ClicksCount</th>\n",
       "      <th>FirmsCount</th>\n",
       "      <th>GeoPart</th>\n",
       "      <th>MobilePart</th>\n",
       "      <th>UsersCount</th>\n",
       "      <th>Distance</th>\n",
       "      <th>IsGeo</th>\n",
       "    </tr>\n",
       "  </thead>\n",
       "  <tbody>\n",
       "    <tr>\n",
       "      <th>AddressCount</th>\n",
       "      <td>1.000000</td>\n",
       "      <td>0.618009</td>\n",
       "      <td>0.911155</td>\n",
       "      <td>0.670168</td>\n",
       "      <td>0.201072</td>\n",
       "      <td>0.412753</td>\n",
       "      <td>0.933225</td>\n",
       "      <td>-0.359379</td>\n",
       "      <td>0.323899</td>\n",
       "    </tr>\n",
       "    <tr>\n",
       "      <th>CallsCount</th>\n",
       "      <td>0.618009</td>\n",
       "      <td>1.000000</td>\n",
       "      <td>0.838606</td>\n",
       "      <td>0.470456</td>\n",
       "      <td>0.148431</td>\n",
       "      <td>0.241862</td>\n",
       "      <td>0.722171</td>\n",
       "      <td>-0.240452</td>\n",
       "      <td>0.086014</td>\n",
       "    </tr>\n",
       "    <tr>\n",
       "      <th>ClicksCount</th>\n",
       "      <td>0.911155</td>\n",
       "      <td>0.838606</td>\n",
       "      <td>1.000000</td>\n",
       "      <td>0.714979</td>\n",
       "      <td>0.243448</td>\n",
       "      <td>0.416174</td>\n",
       "      <td>0.974676</td>\n",
       "      <td>-0.360231</td>\n",
       "      <td>0.308041</td>\n",
       "    </tr>\n",
       "    <tr>\n",
       "      <th>FirmsCount</th>\n",
       "      <td>0.670168</td>\n",
       "      <td>0.470456</td>\n",
       "      <td>0.714979</td>\n",
       "      <td>1.000000</td>\n",
       "      <td>0.403079</td>\n",
       "      <td>0.311372</td>\n",
       "      <td>0.747713</td>\n",
       "      <td>-0.478833</td>\n",
       "      <td>0.376945</td>\n",
       "    </tr>\n",
       "    <tr>\n",
       "      <th>GeoPart</th>\n",
       "      <td>0.201072</td>\n",
       "      <td>0.148431</td>\n",
       "      <td>0.243448</td>\n",
       "      <td>0.403079</td>\n",
       "      <td>1.000000</td>\n",
       "      <td>0.306338</td>\n",
       "      <td>0.256766</td>\n",
       "      <td>-0.567236</td>\n",
       "      <td>0.434534</td>\n",
       "    </tr>\n",
       "    <tr>\n",
       "      <th>MobilePart</th>\n",
       "      <td>0.412753</td>\n",
       "      <td>0.241862</td>\n",
       "      <td>0.416174</td>\n",
       "      <td>0.311372</td>\n",
       "      <td>0.306338</td>\n",
       "      <td>1.000000</td>\n",
       "      <td>0.479752</td>\n",
       "      <td>-0.520953</td>\n",
       "      <td>0.538959</td>\n",
       "    </tr>\n",
       "    <tr>\n",
       "      <th>UsersCount</th>\n",
       "      <td>0.933225</td>\n",
       "      <td>0.722171</td>\n",
       "      <td>0.974676</td>\n",
       "      <td>0.747713</td>\n",
       "      <td>0.256766</td>\n",
       "      <td>0.479752</td>\n",
       "      <td>1.000000</td>\n",
       "      <td>-0.383958</td>\n",
       "      <td>0.398542</td>\n",
       "    </tr>\n",
       "    <tr>\n",
       "      <th>Distance</th>\n",
       "      <td>-0.359379</td>\n",
       "      <td>-0.240452</td>\n",
       "      <td>-0.360231</td>\n",
       "      <td>-0.478833</td>\n",
       "      <td>-0.567236</td>\n",
       "      <td>-0.520953</td>\n",
       "      <td>-0.383958</td>\n",
       "      <td>1.000000</td>\n",
       "      <td>-0.565264</td>\n",
       "    </tr>\n",
       "    <tr>\n",
       "      <th>IsGeo</th>\n",
       "      <td>0.323899</td>\n",
       "      <td>0.086014</td>\n",
       "      <td>0.308041</td>\n",
       "      <td>0.376945</td>\n",
       "      <td>0.434534</td>\n",
       "      <td>0.538959</td>\n",
       "      <td>0.398542</td>\n",
       "      <td>-0.565264</td>\n",
       "      <td>1.000000</td>\n",
       "    </tr>\n",
       "  </tbody>\n",
       "</table>\n",
       "</div>"
      ],
      "text/plain": [
       "              AddressCount  CallsCount  ClicksCount  FirmsCount   GeoPart  \\\n",
       "AddressCount      1.000000    0.618009     0.911155    0.670168  0.201072   \n",
       "CallsCount        0.618009    1.000000     0.838606    0.470456  0.148431   \n",
       "ClicksCount       0.911155    0.838606     1.000000    0.714979  0.243448   \n",
       "FirmsCount        0.670168    0.470456     0.714979    1.000000  0.403079   \n",
       "GeoPart           0.201072    0.148431     0.243448    0.403079  1.000000   \n",
       "MobilePart        0.412753    0.241862     0.416174    0.311372  0.306338   \n",
       "UsersCount        0.933225    0.722171     0.974676    0.747713  0.256766   \n",
       "Distance         -0.359379   -0.240452    -0.360231   -0.478833 -0.567236   \n",
       "IsGeo             0.323899    0.086014     0.308041    0.376945  0.434534   \n",
       "\n",
       "              MobilePart  UsersCount  Distance     IsGeo  \n",
       "AddressCount    0.412753    0.933225 -0.359379  0.323899  \n",
       "CallsCount      0.241862    0.722171 -0.240452  0.086014  \n",
       "ClicksCount     0.416174    0.974676 -0.360231  0.308041  \n",
       "FirmsCount      0.311372    0.747713 -0.478833  0.376945  \n",
       "GeoPart         0.306338    0.256766 -0.567236  0.434534  \n",
       "MobilePart      1.000000    0.479752 -0.520953  0.538959  \n",
       "UsersCount      0.479752    1.000000 -0.383958  0.398542  \n",
       "Distance       -0.520953   -0.383958  1.000000 -0.565264  \n",
       "IsGeo           0.538959    0.398542 -0.565264  1.000000  "
      ]
     },
     "execution_count": 81,
     "metadata": {},
     "output_type": "execute_result"
    }
   ],
   "source": [
    "data.corr()"
   ]
  },
  {
   "cell_type": "code",
   "execution_count": 82,
   "metadata": {},
   "outputs": [],
   "source": [
    "y = data['IsGeo']\n",
    "X = data.drop(['IsGeo'], axis='columns')"
   ]
  },
  {
   "cell_type": "code",
   "execution_count": 83,
   "metadata": {},
   "outputs": [
    {
     "data": {
      "text/plain": [
       "{'whiskers': [<matplotlib.lines.Line2D at 0x23050e6a708>,\n",
       "  <matplotlib.lines.Line2D at 0x23050e9bf48>],\n",
       " 'caps': [<matplotlib.lines.Line2D at 0x23050ea1c08>,\n",
       "  <matplotlib.lines.Line2D at 0x23050ea6ac8>],\n",
       " 'boxes': [<matplotlib.lines.Line2D at 0x23050e5b648>],\n",
       " 'medians': [<matplotlib.lines.Line2D at 0x23050ea6b88>],\n",
       " 'fliers': [<matplotlib.lines.Line2D at 0x23050ea6e08>],\n",
       " 'means': []}"
      ]
     },
     "execution_count": 83,
     "metadata": {},
     "output_type": "execute_result"
    },
    {
     "data": {
      "image/png": "[encoded data removed]",
      "text/plain": [
       "<Figure size 864x288 with 8 Axes>"
      ]
     },
     "metadata": {
      "needs_background": "light"
     },
     "output_type": "display_data"
    }
   ],
   "source": [
    "import matplotlib.pyplot as plt\n",
    "_, axis = plt.subplots(ncols=8, figsize=(12, 4))\n",
    "axis[0].boxplot(data['AddressCount'])\n",
    "axis[1].boxplot(data['CallsCount'])\n",
    "axis[2].boxplot(data['ClicksCount'])\n",
    "axis[3].boxplot(data['FirmsCount'])\n",
    "axis[4].boxplot(data['GeoPart'])\n",
    "axis[5].boxplot(data['MobilePart'])\n",
    "axis[6].boxplot(data['UsersCount'])\n",
    "axis[7].boxplot(data['Distance'])\n"
   ]
  },
  {
   "cell_type": "code",
   "execution_count": 84,
   "metadata": {},
   "outputs": [
    {
     "data": {
      "text/plain": [
       "(array([15., 12., 11., 10., 11.,  6.,  7.,  1.,  3.,  3.]),\n",
       " array([ 714.7872362 , 1272.52924372, 1830.27125124, 2388.01325876,\n",
       "        2945.75526628, 3503.49727379, 4061.23928131, 4618.98128883,\n",
       "        5176.72329635, 5734.46530387, 6292.20731139]),\n",
       " <a list of 10 Patch objects>)"
      ]
     },
     "execution_count": 84,
     "metadata": {},
     "output_type": "execute_result"
    },
    {
     "data": {
      "image/png": "[encoded data removed]",
      "text/plain": [
       "<Figure size 1152x288 with 8 Axes>"
      ]
     },
     "metadata": {
      "needs_background": "light"
     },
     "output_type": "display_data"
    }
   ],
   "source": [
    "import matplotlib.pyplot as plt\n",
    "_, axis = plt.subplots(ncols=8, figsize=(16, 4))\n",
    "axis[0].hist(data['AddressCount'])\n",
    "axis[1].hist(data['CallsCount'])\n",
    "axis[2].hist(data['ClicksCount'])\n",
    "axis[3].hist(data['FirmsCount'])\n",
    "axis[4].hist(data['GeoPart'])\n",
    "axis[5].hist(data['MobilePart'])\n",
    "axis[6].hist(data['UsersCount'])\n",
    "axis[7].hist(data['Distance'])\n"
   ]
  },
  {
   "cell_type": "code",
   "execution_count": 117,
   "metadata": {},
   "outputs": [],
   "source": [
    "X = X[X['FirmsCount'] < 2000]\n",
    "data = data[data['FirmsCount'] < 2000]\n",
    "y = data['IsGeo']"
   ]
  },
  {
   "cell_type": "code",
   "execution_count": 86,
   "metadata": {},
   "outputs": [
    {
     "data": {
      "text/html": [
       "<div>\n",
       "<style scoped>\n",
       "    .dataframe tbody tr th:only-of-type {\n",
       "        vertical-align: middle;\n",
       "    }\n",
       "\n",
       "    .dataframe tbody tr th {\n",
       "        vertical-align: top;\n",
       "    }\n",
       "\n",
       "    .dataframe thead th {\n",
       "        text-align: right;\n",
       "    }\n",
       "</style>\n",
       "<table border=\"1\" class=\"dataframe\">\n",
       "  <thead>\n",
       "    <tr style=\"text-align: right;\">\n",
       "      <th></th>\n",
       "      <th>AddressCount</th>\n",
       "      <th>CallsCount</th>\n",
       "      <th>ClicksCount</th>\n",
       "      <th>FirmsCount</th>\n",
       "      <th>GeoPart</th>\n",
       "      <th>MobilePart</th>\n",
       "      <th>UsersCount</th>\n",
       "      <th>Distance</th>\n",
       "    </tr>\n",
       "  </thead>\n",
       "  <tbody>\n",
       "    <tr>\n",
       "      <th>AddressCount</th>\n",
       "      <td>1.000000</td>\n",
       "      <td>0.621184</td>\n",
       "      <td>0.911533</td>\n",
       "      <td>0.811500</td>\n",
       "      <td>0.194179</td>\n",
       "      <td>0.412330</td>\n",
       "      <td>0.937297</td>\n",
       "      <td>-0.355807</td>\n",
       "    </tr>\n",
       "    <tr>\n",
       "      <th>CallsCount</th>\n",
       "      <td>0.621184</td>\n",
       "      <td>1.000000</td>\n",
       "      <td>0.846491</td>\n",
       "      <td>0.626577</td>\n",
       "      <td>0.160266</td>\n",
       "      <td>0.242780</td>\n",
       "      <td>0.736553</td>\n",
       "      <td>-0.248272</td>\n",
       "    </tr>\n",
       "    <tr>\n",
       "      <th>ClicksCount</th>\n",
       "      <td>0.911533</td>\n",
       "      <td>0.846491</td>\n",
       "      <td>1.000000</td>\n",
       "      <td>0.837546</td>\n",
       "      <td>0.228674</td>\n",
       "      <td>0.416226</td>\n",
       "      <td>0.975849</td>\n",
       "      <td>-0.351528</td>\n",
       "    </tr>\n",
       "    <tr>\n",
       "      <th>FirmsCount</th>\n",
       "      <td>0.811500</td>\n",
       "      <td>0.626577</td>\n",
       "      <td>0.837546</td>\n",
       "      <td>1.000000</td>\n",
       "      <td>0.346878</td>\n",
       "      <td>0.380148</td>\n",
       "      <td>0.841365</td>\n",
       "      <td>-0.500639</td>\n",
       "    </tr>\n",
       "    <tr>\n",
       "      <th>GeoPart</th>\n",
       "      <td>0.194179</td>\n",
       "      <td>0.160266</td>\n",
       "      <td>0.228674</td>\n",
       "      <td>0.346878</td>\n",
       "      <td>1.000000</td>\n",
       "      <td>0.309554</td>\n",
       "      <td>0.231311</td>\n",
       "      <td>-0.554618</td>\n",
       "    </tr>\n",
       "    <tr>\n",
       "      <th>MobilePart</th>\n",
       "      <td>0.412330</td>\n",
       "      <td>0.242780</td>\n",
       "      <td>0.416226</td>\n",
       "      <td>0.380148</td>\n",
       "      <td>0.309554</td>\n",
       "      <td>1.000000</td>\n",
       "      <td>0.482357</td>\n",
       "      <td>-0.523602</td>\n",
       "    </tr>\n",
       "    <tr>\n",
       "      <th>UsersCount</th>\n",
       "      <td>0.937297</td>\n",
       "      <td>0.736553</td>\n",
       "      <td>0.975849</td>\n",
       "      <td>0.841365</td>\n",
       "      <td>0.231311</td>\n",
       "      <td>0.482357</td>\n",
       "      <td>1.000000</td>\n",
       "      <td>-0.370047</td>\n",
       "    </tr>\n",
       "    <tr>\n",
       "      <th>Distance</th>\n",
       "      <td>-0.355807</td>\n",
       "      <td>-0.248272</td>\n",
       "      <td>-0.351528</td>\n",
       "      <td>-0.500639</td>\n",
       "      <td>-0.554618</td>\n",
       "      <td>-0.523602</td>\n",
       "      <td>-0.370047</td>\n",
       "      <td>1.000000</td>\n",
       "    </tr>\n",
       "  </tbody>\n",
       "</table>\n",
       "</div>"
      ],
      "text/plain": [
       "              AddressCount  CallsCount  ClicksCount  FirmsCount   GeoPart  \\\n",
       "AddressCount      1.000000    0.621184     0.911533    0.811500  0.194179   \n",
       "CallsCount        0.621184    1.000000     0.846491    0.626577  0.160266   \n",
       "ClicksCount       0.911533    0.846491     1.000000    0.837546  0.228674   \n",
       "FirmsCount        0.811500    0.626577     0.837546    1.000000  0.346878   \n",
       "GeoPart           0.194179    0.160266     0.228674    0.346878  1.000000   \n",
       "MobilePart        0.412330    0.242780     0.416226    0.380148  0.309554   \n",
       "UsersCount        0.937297    0.736553     0.975849    0.841365  0.231311   \n",
       "Distance         -0.355807   -0.248272    -0.351528   -0.500639 -0.554618   \n",
       "\n",
       "              MobilePart  UsersCount  Distance  \n",
       "AddressCount    0.412330    0.937297 -0.355807  \n",
       "CallsCount      0.242780    0.736553 -0.248272  \n",
       "ClicksCount     0.416226    0.975849 -0.351528  \n",
       "FirmsCount      0.380148    0.841365 -0.500639  \n",
       "GeoPart         0.309554    0.231311 -0.554618  \n",
       "MobilePart      1.000000    0.482357 -0.523602  \n",
       "UsersCount      0.482357    1.000000 -0.370047  \n",
       "Distance       -0.523602   -0.370047  1.000000  "
      ]
     },
     "execution_count": 86,
     "metadata": {},
     "output_type": "execute_result"
    }
   ],
   "source": [
    "X.corr()"
   ]
  },
  {
   "cell_type": "markdown",
   "metadata": {},
   "source": [
    "### PCA"
   ]
  },
  {
   "cell_type": "markdown",
   "metadata": {},
   "source": [
    "Поскольку большая часть признаков скоррелирована, то отделение эффекта каждого фактора затруднительно + не подходит для наивного байеса. Оценим применимость факторного анализа, при положительном результате применим PCA."
   ]
  },
  {
   "cell_type": "markdown",
   "metadata": {},
   "source": [
    "Исходя из матрицы корреляции уже можно сделать вывод о том, что ФА/PCA применимы, но проверим критериями КМО и Бартлетта:"
   ]
  },
  {
   "cell_type": "code",
   "execution_count": 87,
   "metadata": {},
   "outputs": [
    {
     "name": "stdout",
     "output_type": "stream",
     "text": [
      "Requirement already satisfied: factor-analyzer in c:\\users\\alexey\\anaconda3\\lib\\site-packages (0.3.2)\n",
      "Requirement already satisfied: scikit-learn in c:\\users\\alexey\\anaconda3\\lib\\site-packages (from factor-analyzer) (0.23.2)\n",
      "Requirement already satisfied: scipy in c:\\users\\alexey\\anaconda3\\lib\\site-packages (from factor-analyzer) (1.4.1)\n",
      "Requirement already satisfied: pandas in c:\\users\\alexey\\anaconda3\\lib\\site-packages (from factor-analyzer) (1.0.1)\n",
      "Requirement already satisfied: numpy in c:\\users\\alexey\\anaconda3\\lib\\site-packages (from factor-analyzer) (1.18.1)\n",
      "Requirement already satisfied: joblib>=0.11 in c:\\users\\alexey\\anaconda3\\lib\\site-packages (from scikit-learn->factor-analyzer) (0.14.1)\n",
      "Requirement already satisfied: threadpoolctl>=2.0.0 in c:\\users\\alexey\\anaconda3\\lib\\site-packages (from scikit-learn->factor-analyzer) (2.1.0)\n",
      "Requirement already satisfied: python-dateutil>=2.6.1 in c:\\users\\alexey\\anaconda3\\lib\\site-packages (from pandas->factor-analyzer) (2.8.1)\n",
      "Requirement already satisfied: pytz>=2017.2 in c:\\users\\alexey\\anaconda3\\lib\\site-packages (from pandas->factor-analyzer) (2019.3)\n",
      "Requirement already satisfied: six>=1.5 in c:\\users\\alexey\\anaconda3\\lib\\site-packages (from python-dateutil>=2.6.1->pandas->factor-analyzer) (1.14.0)\n"
     ]
    }
   ],
   "source": [
    "!pip install factor-analyzer"
   ]
  },
  {
   "cell_type": "code",
   "execution_count": 88,
   "metadata": {},
   "outputs": [],
   "source": [
    "import factor_analyzer\n",
    "from factor_analyzer import FactorAnalyzer"
   ]
  },
  {
   "cell_type": "code",
   "execution_count": 89,
   "metadata": {},
   "outputs": [],
   "source": [
    "_, p_value_bartlet = factor_analyzer.factor_analyzer.calculate_bartlett_sphericity(X)"
   ]
  },
  {
   "cell_type": "code",
   "execution_count": 90,
   "metadata": {},
   "outputs": [],
   "source": [
    "_, p_value_kmo = factor_analyzer.factor_analyzer.calculate_kmo(X)"
   ]
  },
  {
   "cell_type": "code",
   "execution_count": 91,
   "metadata": {},
   "outputs": [
    {
     "data": {
      "text/plain": [
       "(8.824928170727435e-143, 0.7403915463256981)"
      ]
     },
     "execution_count": 91,
     "metadata": {},
     "output_type": "execute_result"
    }
   ],
   "source": [
    "p_value_bartlet, p_value_kmo"
   ]
  },
  {
   "cell_type": "markdown",
   "metadata": {},
   "source": [
    "Как мы видим H0 о диагональности корреляционной матрицы отвергается, статистика критерия КМО > 0.7 => ФА применим. \n",
    "\n",
    "В нашем случае основной целью будет сокращение к-ва фич, а не их классификация, поэтому применим PCA.\n",
    "\n",
    "Для оценки к-ва значимых компонент используем метод Кайзера."
   ]
  },
  {
   "cell_type": "code",
   "execution_count": 106,
   "metadata": {},
   "outputs": [],
   "source": [
    "from sklearn.preprocessing import StandardScaler"
   ]
  },
  {
   "cell_type": "code",
   "execution_count": 107,
   "metadata": {},
   "outputs": [],
   "source": [
    "X_norm = StandardScaler().fit_transform(X)"
   ]
  },
  {
   "cell_type": "code",
   "execution_count": 108,
   "metadata": {},
   "outputs": [],
   "source": [
    "from sklearn.decomposition import PCA"
   ]
  },
  {
   "cell_type": "code",
   "execution_count": 109,
   "metadata": {},
   "outputs": [
    {
     "data": {
      "text/plain": [
       "3"
      ]
     },
     "execution_count": 109,
     "metadata": {},
     "output_type": "execute_result"
    }
   ],
   "source": [
    "X_ = pd.DataFrame(X_norm)\n",
    "(X_.cov() > X_.cov().to_numpy().trace() /X_.cov().shape[0]).to_numpy().trace().sum()\n"
   ]
  },
  {
   "cell_type": "code",
   "execution_count": 110,
   "metadata": {},
   "outputs": [],
   "source": [
    "pca = PCA(n_components=3, svd_solver='full')"
   ]
  },
  {
   "cell_type": "code",
   "execution_count": 111,
   "metadata": {},
   "outputs": [
    {
     "data": {
      "text/plain": [
       "PCA(n_components=3, svd_solver='full')"
      ]
     },
     "execution_count": 111,
     "metadata": {},
     "output_type": "execute_result"
    }
   ],
   "source": [
    "pca.fit(X_norm)"
   ]
  },
  {
   "cell_type": "code",
   "execution_count": 112,
   "metadata": {},
   "outputs": [
    {
     "data": {
      "text/plain": [
       "0.871443046265559"
      ]
     },
     "execution_count": 112,
     "metadata": {},
     "output_type": "execute_result"
    }
   ],
   "source": [
    "pca.explained_variance_ratio_.sum()"
   ]
  },
  {
   "cell_type": "code",
   "execution_count": 133,
   "metadata": {},
   "outputs": [],
   "source": [
    "pca_x = pca.transform(X_norm)"
   ]
  },
  {
   "cell_type": "code",
   "execution_count": null,
   "metadata": {},
   "outputs": [],
   "source": []
  },
  {
   "cell_type": "markdown",
   "metadata": {},
   "source": [
    "### Модели"
   ]
  },
  {
   "cell_type": "markdown",
   "metadata": {},
   "source": [
    "Поскольку:\n",
    "- У нас мало примеров\n",
    "- У нас вследствие PCA выполняется предположение о некоррелированность признаков\n",
    "\n",
    "Возьмем в качестве моделей Лин.регрессию и Байесовский классификатор."
   ]
  },
  {
   "cell_type": "code",
   "execution_count": 118,
   "metadata": {},
   "outputs": [],
   "source": [
    "from sklearn.model_selection import train_test_split"
   ]
  },
  {
   "cell_type": "code",
   "execution_count": 127,
   "metadata": {},
   "outputs": [],
   "source": [
    "X_train, X_test, y_train, y_test = train_test_split(X, y,test_size=0.2, stratify=y)"
   ]
  },
  {
   "cell_type": "code",
   "execution_count": 128,
   "metadata": {},
   "outputs": [],
   "source": [
    "from collections import Counter"
   ]
  },
  {
   "cell_type": "code",
   "execution_count": 131,
   "metadata": {},
   "outputs": [
    {
     "data": {
      "text/plain": [
       "Counter({1: 6, 0: 10})"
      ]
     },
     "execution_count": 131,
     "metadata": {},
     "output_type": "execute_result"
    }
   ],
   "source": [
    "Counter(y_test)"
   ]
  },
  {
   "cell_type": "markdown",
   "metadata": {},
   "source": [
    "Отобразим разбиение на графике по первым 2 фичам:"
   ]
  },
  {
   "cell_type": "code",
   "execution_count": 151,
   "metadata": {},
   "outputs": [
    {
     "data": {
      "text/plain": [
       "<matplotlib.collections.PathCollection at 0x23052ae93c8>"
      ]
     },
     "execution_count": 151,
     "metadata": {},
     "output_type": "execute_result"
    },
    {
     "data": {
      "image/png": "[encoded data removed]",
      "text/plain": [
       "<Figure size 864x288 with 3 Axes>"
      ]
     },
     "metadata": {
      "needs_background": "light"
     },
     "output_type": "display_data"
    }
   ],
   "source": [
    "_, axis = plt.subplots(ncols=3, figsize=(12, 4))\n",
    "axis[0].scatter(pca_x[:, 0], pca_x[:, 1], c=y)\n",
    "axis[1].scatter(pca_x[:, 1], pca_x[:, 2], c=y)\n",
    "axis[2].scatter(pca_x[:, 0], pca_x[:, 2], c=y)"
   ]
  },
  {
   "cell_type": "markdown",
   "metadata": {},
   "source": [
    "Как мы видим, наши данные +- линейно разделимы, так что лин.регрессия будет неплоха"
   ]
  },
  {
   "cell_type": "code",
   "execution_count": 153,
   "metadata": {},
   "outputs": [],
   "source": [
    "from sklearn.linear_model import LinearRegression"
   ]
  },
  {
   "cell_type": "code",
   "execution_count": 158,
   "metadata": {},
   "outputs": [],
   "source": [
    "linr = LinearRegression()"
   ]
  },
  {
   "cell_type": "code",
   "execution_count": 159,
   "metadata": {},
   "outputs": [
    {
     "data": {
      "text/plain": [
       "LinearRegression()"
      ]
     },
     "execution_count": 159,
     "metadata": {},
     "output_type": "execute_result"
    }
   ],
   "source": [
    "linr.fit(X_train, y_train)"
   ]
  },
  {
   "cell_type": "code",
   "execution_count": 160,
   "metadata": {},
   "outputs": [
    {
     "data": {
      "text/plain": [
       "0.3849070638677923"
      ]
     },
     "execution_count": 160,
     "metadata": {},
     "output_type": "execute_result"
    }
   ],
   "source": [
    "linr.score(X_test, y_test)"
   ]
  },
  {
   "cell_type": "code",
   "execution_count": 162,
   "metadata": {},
   "outputs": [],
   "source": [
    "preds = linr.predict(X_test)"
   ]
  },
  {
   "cell_type": "code",
   "execution_count": 165,
   "metadata": {},
   "outputs": [
    {
     "data": {
      "text/plain": [
       "array([1, 0, 0, 0, 0, 0, 0, 0, 0, 0, 1, 1, 0, 0, 1, 0])"
      ]
     },
     "execution_count": 165,
     "metadata": {},
     "output_type": "execute_result"
    }
   ],
   "source": [
    "(preds > 0.5).astype(int)"
   ]
  },
  {
   "cell_type": "code",
   "execution_count": 167,
   "metadata": {},
   "outputs": [],
   "source": [
    "from sklearn.metrics import accuracy_score"
   ]
  },
  {
   "cell_type": "code",
   "execution_count": 169,
   "metadata": {},
   "outputs": [
    {
     "data": {
      "text/plain": [
       "0.75"
      ]
     },
     "execution_count": 169,
     "metadata": {},
     "output_type": "execute_result"
    }
   ],
   "source": [
    "accuracy_score((preds > 0.5).astype(int), y_test)"
   ]
  },
  {
   "cell_type": "markdown",
   "metadata": {},
   "source": [
    "Вышло качество не очень, проверим на SVC нет ли ошибки при использовании LR:"
   ]
  },
  {
   "cell_type": "code",
   "execution_count": 172,
   "metadata": {},
   "outputs": [],
   "source": [
    "from sklearn.svm import SVC\n",
    "svc = SVC()"
   ]
  },
  {
   "cell_type": "code",
   "execution_count": 173,
   "metadata": {},
   "outputs": [
    {
     "data": {
      "text/plain": [
       "SVC()"
      ]
     },
     "execution_count": 173,
     "metadata": {},
     "output_type": "execute_result"
    }
   ],
   "source": [
    "svc.fit(X_train, y_train)"
   ]
  },
  {
   "cell_type": "code",
   "execution_count": 177,
   "metadata": {},
   "outputs": [],
   "source": [
    "preds_ = svc.predict(X_test)"
   ]
  },
  {
   "cell_type": "code",
   "execution_count": 178,
   "metadata": {},
   "outputs": [
    {
     "data": {
      "text/plain": [
       "0.6875"
      ]
     },
     "execution_count": 178,
     "metadata": {},
     "output_type": "execute_result"
    }
   ],
   "source": [
    "accuracy_score(preds_, y_test)"
   ]
  },
  {
   "cell_type": "code",
   "execution_count": 179,
   "metadata": {},
   "outputs": [
    {
     "data": {
      "text/plain": [
       "array([1, 0, 0, 0, 0, 0, 0, 0, 0, 0, 1, 1, 0, 0, 0, 0], dtype=int64)"
      ]
     },
     "execution_count": 179,
     "metadata": {},
     "output_type": "execute_result"
    }
   ],
   "source": [
    "preds_"
   ]
  },
  {
   "cell_type": "markdown",
   "metadata": {},
   "source": [
    "Вышло качество еще хуже => сама модель ЛР нормальная, просто данные сложнолинейно разделимы"
   ]
  },
  {
   "cell_type": "markdown",
   "metadata": {},
   "source": [
    "#### Bayes:"
   ]
  },
  {
   "cell_type": "code",
   "execution_count": 182,
   "metadata": {},
   "outputs": [],
   "source": [
    "from sklearn.naive_bayes import GaussianNB"
   ]
  },
  {
   "cell_type": "code",
   "execution_count": 183,
   "metadata": {},
   "outputs": [],
   "source": [
    "nbm = GaussianNB()"
   ]
  },
  {
   "cell_type": "code",
   "execution_count": 184,
   "metadata": {},
   "outputs": [
    {
     "data": {
      "text/plain": [
       "GaussianNB()"
      ]
     },
     "execution_count": 184,
     "metadata": {},
     "output_type": "execute_result"
    }
   ],
   "source": [
    "nbm.fit(X_train, y_train)"
   ]
  },
  {
   "cell_type": "code",
   "execution_count": 185,
   "metadata": {},
   "outputs": [],
   "source": [
    "preds_b = nbm.predict(X_test)"
   ]
  },
  {
   "cell_type": "code",
   "execution_count": 186,
   "metadata": {},
   "outputs": [
    {
     "data": {
      "text/plain": [
       "array([1, 0, 0, 0, 0, 0, 0, 0, 0, 0, 1, 0, 0, 0, 0, 0], dtype=int64)"
      ]
     },
     "execution_count": 186,
     "metadata": {},
     "output_type": "execute_result"
    }
   ],
   "source": [
    "preds_b"
   ]
  },
  {
   "cell_type": "code",
   "execution_count": 187,
   "metadata": {},
   "outputs": [
    {
     "data": {
      "text/plain": [
       "0.75"
      ]
     },
     "execution_count": 187,
     "metadata": {},
     "output_type": "execute_result"
    }
   ],
   "source": [
    "accuracy_score(preds_b, y_test)"
   ]
  },
  {
   "cell_type": "markdown",
   "metadata": {},
   "source": [
    "Качество вышло как и у линейной регрессии. Для лучшего качества нужно больше примеров."
   ]
  },
  {
   "cell_type": "markdown",
   "metadata": {},
   "source": [
    "Попробуем еще дерево решений, оно выдает лучший результат. "
   ]
  },
  {
   "cell_type": "code",
   "execution_count": 188,
   "metadata": {},
   "outputs": [],
   "source": [
    "from sklearn.tree import DecisionTreeClassifier"
   ]
  },
  {
   "cell_type": "code",
   "execution_count": 189,
   "metadata": {},
   "outputs": [],
   "source": [
    "dtc = DecisionTreeClassifier()"
   ]
  },
  {
   "cell_type": "code",
   "execution_count": 190,
   "metadata": {},
   "outputs": [
    {
     "data": {
      "text/plain": [
       "DecisionTreeClassifier()"
      ]
     },
     "execution_count": 190,
     "metadata": {},
     "output_type": "execute_result"
    }
   ],
   "source": [
    "dtc.fit(X_train, y_train)"
   ]
  },
  {
   "cell_type": "code",
   "execution_count": 193,
   "metadata": {},
   "outputs": [],
   "source": [
    "preds__ = dtc.predict(X_test)"
   ]
  },
  {
   "cell_type": "code",
   "execution_count": 194,
   "metadata": {},
   "outputs": [
    {
     "data": {
      "text/plain": [
       "0.8125"
      ]
     },
     "execution_count": 194,
     "metadata": {},
     "output_type": "execute_result"
    }
   ],
   "source": [
    "accuracy_score(preds__, y_test)"
   ]
  },
  {
   "cell_type": "markdown",
   "metadata": {},
   "source": [
    "Таким образом, приведено сравнение нескольких простых классификаторов. Наилучший результат показало дерево решений. Можно предположить, что ансамбль деревьев выдаст лучший результат, но нужно больше данных.\n",
    "\n",
    "Исходные признаки сильно скоррелированы и применение PCA помогает сократить количество переменных и сделать возможным применение NBC."
   ]
  }
 ],
 "metadata": {
  "kernelspec": {
   "display_name": "Python 3",
   "language": "python",
   "name": "python3"
  },
  "language_info": {
   "codemirror_mode": {
    "name": "ipython",
    "version": 3
   },
   "file_extension": ".py",
   "mimetype": "text/x-python",
   "name": "python",
   "nbconvert_exporter": "python",
   "pygments_lexer": "ipython3",
   "version": "3.7.6"
  }
 },
 "nbformat": 4,
 "nbformat_minor": 4
}
