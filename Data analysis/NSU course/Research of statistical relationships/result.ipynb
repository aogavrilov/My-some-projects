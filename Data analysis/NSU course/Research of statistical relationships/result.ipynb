{
 "cells": [
  {
   "cell_type": "markdown",
   "metadata": {},
   "source": [
    "### Загрузим данные"
   ]
  },
  {
   "cell_type": "code",
   "execution_count": 1,
   "metadata": {},
   "outputs": [],
   "source": [
    "import pandas as pd\n",
    "import numpy as np\n",
    "import matplotlib.pyplot as plt\n"
   ]
  },
  {
   "cell_type": "code",
   "execution_count": 2,
   "metadata": {},
   "outputs": [],
   "source": [
    "data = pd.read_csv('Data_Projects.csv', ';')"
   ]
  },
  {
   "cell_type": "markdown",
   "metadata": {},
   "source": [
    "## Посмотрим на данные и их статистики."
   ]
  },
  {
   "cell_type": "code",
   "execution_count": 3,
   "metadata": {},
   "outputs": [
    {
     "data": {
      "text/html": [
       "<div>\n",
       "<style scoped>\n",
       "    .dataframe tbody tr th:only-of-type {\n",
       "        vertical-align: middle;\n",
       "    }\n",
       "\n",
       "    .dataframe tbody tr th {\n",
       "        vertical-align: top;\n",
       "    }\n",
       "\n",
       "    .dataframe thead th {\n",
       "        text-align: right;\n",
       "    }\n",
       "</style>\n",
       "<table border=\"1\" class=\"dataframe\">\n",
       "  <thead>\n",
       "    <tr style=\"text-align: right;\">\n",
       "      <th></th>\n",
       "      <th>AddressCount</th>\n",
       "      <th>CallsCount</th>\n",
       "      <th>ClicksCount</th>\n",
       "      <th>FirmsCount</th>\n",
       "      <th>GeoPart</th>\n",
       "      <th>MobilePart</th>\n",
       "      <th>UsersCount</th>\n",
       "      <th>Distance</th>\n",
       "      <th>IsGeo</th>\n",
       "    </tr>\n",
       "  </thead>\n",
       "  <tbody>\n",
       "    <tr>\n",
       "      <th>0</th>\n",
       "      <td>156</td>\n",
       "      <td>20</td>\n",
       "      <td>1903</td>\n",
       "      <td>176</td>\n",
       "      <td>0,416104363472785</td>\n",
       "      <td>0,535762483130904</td>\n",
       "      <td>1125</td>\n",
       "      <td>749,966084023684</td>\n",
       "      <td>1</td>\n",
       "    </tr>\n",
       "    <tr>\n",
       "      <th>1</th>\n",
       "      <td>17</td>\n",
       "      <td>37</td>\n",
       "      <td>258</td>\n",
       "      <td>20</td>\n",
       "      <td>0,211678832116788</td>\n",
       "      <td>0,430656934306569</td>\n",
       "      <td>157</td>\n",
       "      <td>2289,03242434015</td>\n",
       "      <td>0</td>\n",
       "    </tr>\n",
       "    <tr>\n",
       "      <th>2</th>\n",
       "      <td>78</td>\n",
       "      <td>56</td>\n",
       "      <td>1956</td>\n",
       "      <td>185</td>\n",
       "      <td>0,349475383373688</td>\n",
       "      <td>0,476594027441485</td>\n",
       "      <td>1195</td>\n",
       "      <td>1423,37651183958</td>\n",
       "      <td>1</td>\n",
       "    </tr>\n",
       "    <tr>\n",
       "      <th>3</th>\n",
       "      <td>14</td>\n",
       "      <td>70</td>\n",
       "      <td>378</td>\n",
       "      <td>19</td>\n",
       "      <td>0,318718381112985</td>\n",
       "      <td>0,463743676222597</td>\n",
       "      <td>206</td>\n",
       "      <td>3396,56608856838</td>\n",
       "      <td>0</td>\n",
       "    </tr>\n",
       "    <tr>\n",
       "      <th>4</th>\n",
       "      <td>111</td>\n",
       "      <td>90</td>\n",
       "      <td>4089</td>\n",
       "      <td>90</td>\n",
       "      <td>0,55617545209696</td>\n",
       "      <td>0,490573297422085</td>\n",
       "      <td>2934</td>\n",
       "      <td>1576,51415402623</td>\n",
       "      <td>1</td>\n",
       "    </tr>\n",
       "  </tbody>\n",
       "</table>\n",
       "</div>"
      ],
      "text/plain": [
       "   AddressCount  CallsCount  ClicksCount  FirmsCount            GeoPart  \\\n",
       "0           156          20         1903         176  0,416104363472785   \n",
       "1            17          37          258          20  0,211678832116788   \n",
       "2            78          56         1956         185  0,349475383373688   \n",
       "3            14          70          378          19  0,318718381112985   \n",
       "4           111          90         4089          90   0,55617545209696   \n",
       "\n",
       "          MobilePart  UsersCount          Distance  IsGeo  \n",
       "0  0,535762483130904        1125  749,966084023684      1  \n",
       "1  0,430656934306569         157  2289,03242434015      0  \n",
       "2  0,476594027441485        1195  1423,37651183958      1  \n",
       "3  0,463743676222597         206  3396,56608856838      0  \n",
       "4  0,490573297422085        2934  1576,51415402623      1  "
      ]
     },
     "execution_count": 3,
     "metadata": {},
     "output_type": "execute_result"
    }
   ],
   "source": [
    "data.head()"
   ]
  },
  {
   "cell_type": "code",
   "execution_count": 4,
   "metadata": {},
   "outputs": [
    {
     "data": {
      "text/html": [
       "<div>\n",
       "<style scoped>\n",
       "    .dataframe tbody tr th:only-of-type {\n",
       "        vertical-align: middle;\n",
       "    }\n",
       "\n",
       "    .dataframe tbody tr th {\n",
       "        vertical-align: top;\n",
       "    }\n",
       "\n",
       "    .dataframe thead th {\n",
       "        text-align: right;\n",
       "    }\n",
       "</style>\n",
       "<table border=\"1\" class=\"dataframe\">\n",
       "  <thead>\n",
       "    <tr style=\"text-align: right;\">\n",
       "      <th></th>\n",
       "      <th>AddressCount</th>\n",
       "      <th>CallsCount</th>\n",
       "      <th>ClicksCount</th>\n",
       "      <th>FirmsCount</th>\n",
       "      <th>UsersCount</th>\n",
       "      <th>IsGeo</th>\n",
       "    </tr>\n",
       "  </thead>\n",
       "  <tbody>\n",
       "    <tr>\n",
       "      <th>count</th>\n",
       "      <td>79.000000</td>\n",
       "      <td>79.000000</td>\n",
       "      <td>79.000000</td>\n",
       "      <td>79.000000</td>\n",
       "      <td>79.000000</td>\n",
       "      <td>79.000000</td>\n",
       "    </tr>\n",
       "    <tr>\n",
       "      <th>mean</th>\n",
       "      <td>1048.037975</td>\n",
       "      <td>3648.683544</td>\n",
       "      <td>21826.012658</td>\n",
       "      <td>305.088608</td>\n",
       "      <td>9753.126582</td>\n",
       "      <td>0.354430</td>\n",
       "    </tr>\n",
       "    <tr>\n",
       "      <th>std</th>\n",
       "      <td>1642.066119</td>\n",
       "      <td>8124.105402</td>\n",
       "      <td>32474.959513</td>\n",
       "      <td>382.052090</td>\n",
       "      <td>13927.295721</td>\n",
       "      <td>0.481397</td>\n",
       "    </tr>\n",
       "    <tr>\n",
       "      <th>min</th>\n",
       "      <td>9.000000</td>\n",
       "      <td>20.000000</td>\n",
       "      <td>258.000000</td>\n",
       "      <td>14.000000</td>\n",
       "      <td>157.000000</td>\n",
       "      <td>0.000000</td>\n",
       "    </tr>\n",
       "    <tr>\n",
       "      <th>25%</th>\n",
       "      <td>81.000000</td>\n",
       "      <td>346.000000</td>\n",
       "      <td>2055.000000</td>\n",
       "      <td>71.500000</td>\n",
       "      <td>1167.500000</td>\n",
       "      <td>0.000000</td>\n",
       "    </tr>\n",
       "    <tr>\n",
       "      <th>50%</th>\n",
       "      <td>371.000000</td>\n",
       "      <td>931.000000</td>\n",
       "      <td>6921.000000</td>\n",
       "      <td>185.000000</td>\n",
       "      <td>2934.000000</td>\n",
       "      <td>0.000000</td>\n",
       "    </tr>\n",
       "    <tr>\n",
       "      <th>75%</th>\n",
       "      <td>1195.000000</td>\n",
       "      <td>2457.500000</td>\n",
       "      <td>30625.500000</td>\n",
       "      <td>402.500000</td>\n",
       "      <td>13265.000000</td>\n",
       "      <td>1.000000</td>\n",
       "    </tr>\n",
       "    <tr>\n",
       "      <th>max</th>\n",
       "      <td>9552.000000</td>\n",
       "      <td>48497.000000</td>\n",
       "      <td>167155.000000</td>\n",
       "      <td>2379.000000</td>\n",
       "      <td>61127.000000</td>\n",
       "      <td>1.000000</td>\n",
       "    </tr>\n",
       "  </tbody>\n",
       "</table>\n",
       "</div>"
      ],
      "text/plain": [
       "       AddressCount    CallsCount    ClicksCount   FirmsCount    UsersCount  \\\n",
       "count     79.000000     79.000000      79.000000    79.000000     79.000000   \n",
       "mean    1048.037975   3648.683544   21826.012658   305.088608   9753.126582   \n",
       "std     1642.066119   8124.105402   32474.959513   382.052090  13927.295721   \n",
       "min        9.000000     20.000000     258.000000    14.000000    157.000000   \n",
       "25%       81.000000    346.000000    2055.000000    71.500000   1167.500000   \n",
       "50%      371.000000    931.000000    6921.000000   185.000000   2934.000000   \n",
       "75%     1195.000000   2457.500000   30625.500000   402.500000  13265.000000   \n",
       "max     9552.000000  48497.000000  167155.000000  2379.000000  61127.000000   \n",
       "\n",
       "           IsGeo  \n",
       "count  79.000000  \n",
       "mean    0.354430  \n",
       "std     0.481397  \n",
       "min     0.000000  \n",
       "25%     0.000000  \n",
       "50%     0.000000  \n",
       "75%     1.000000  \n",
       "max     1.000000  "
      ]
     },
     "execution_count": 4,
     "metadata": {},
     "output_type": "execute_result"
    }
   ],
   "source": [
    "data.describe()"
   ]
  },
  {
   "cell_type": "code",
   "execution_count": 5,
   "metadata": {
    "scrolled": true
   },
   "outputs": [
    {
     "data": {
      "text/plain": [
       "(array([49.,  8.,  8.,  5.,  2.,  1.,  3.,  0.,  1.,  2.]),\n",
       " array([  157.,  6254., 12351., 18448., 24545., 30642., 36739., 42836.,\n",
       "        48933., 55030., 61127.]),\n",
       " <a list of 10 Patch objects>)"
      ]
     },
     "execution_count": 5,
     "metadata": {},
     "output_type": "execute_result"
    },
    {
     "data": {
      "image/png": "[encoded data removed]",
      "text/plain": [
       "<Figure size 432x288 with 5 Axes>"
      ]
     },
     "metadata": {
      "needs_background": "light"
     },
     "output_type": "display_data"
    }
   ],
   "source": [
    "_, (ax1, ax2, ax3, ax4, ax5) = plt.subplots(ncols=5)\n",
    "ax1.hist(data['AddressCount'])\n",
    "ax2.hist(data['CallsCount'])\n",
    "ax3.hist(data['ClicksCount'])\n",
    "ax4.hist(data['FirmsCount'])\n",
    "ax5.hist(data['UsersCount'])"
   ]
  },
  {
   "cell_type": "code",
   "execution_count": 6,
   "metadata": {},
   "outputs": [
    {
     "data": {
      "text/plain": [
       "{'whiskers': [<matplotlib.lines.Line2D at 0x21e09b69b88>,\n",
       "  <matplotlib.lines.Line2D at 0x21e09cf0e48>],\n",
       " 'caps': [<matplotlib.lines.Line2D at 0x21e09cf5e88>,\n",
       "  <matplotlib.lines.Line2D at 0x21e09cf0a88>],\n",
       " 'boxes': [<matplotlib.lines.Line2D at 0x21e09c9c2c8>],\n",
       " 'medians': [<matplotlib.lines.Line2D at 0x21e09cf5708>],\n",
       " 'fliers': [<matplotlib.lines.Line2D at 0x21e09cdd6c8>],\n",
       " 'means': []}"
      ]
     },
     "execution_count": 6,
     "metadata": {},
     "output_type": "execute_result"
    },
    {
     "data": {
      "image/png": "[encoded data removed]",
      "text/plain": [
       "<Figure size 432x288 with 5 Axes>"
      ]
     },
     "metadata": {
      "needs_background": "light"
     },
     "output_type": "display_data"
    }
   ],
   "source": [
    "_, (ax1, ax2, ax3, ax4, ax5) = plt.subplots(ncols=5)\n",
    "ax1.boxplot(data['AddressCount'])\n",
    "ax2.boxplot(data['CallsCount'])\n",
    "ax3.boxplot(data['ClicksCount'])\n",
    "ax4.boxplot(data['FirmsCount'])\n",
    "ax5.boxplot(data['UsersCount'])"
   ]
  },
  {
   "cell_type": "markdown",
   "metadata": {},
   "source": [
    "Мы не можем точно судить о том, что у нас есть выбросы. "
   ]
  },
  {
   "cell_type": "code",
   "execution_count": 7,
   "metadata": {},
   "outputs": [],
   "source": [
    "data = data[(data['AddressCount'] < 8000) & (data['CallsCount'] < 40000) \n",
    "            & (data['ClicksCount'] < 125000) & (data['FirmsCount'] < 2000)]\n"
   ]
  },
  {
   "cell_type": "code",
   "execution_count": 8,
   "metadata": {},
   "outputs": [
    {
     "data": {
      "text/plain": [
       "(array([48.,  2.,  7.,  7.,  1.,  5.,  1.,  0.,  1.,  3.]),\n",
       " array([  157. ,  4202.7,  8248.4, 12294.1, 16339.8, 20385.5, 24431.2,\n",
       "        28476.9, 32522.6, 36568.3, 40614. ]),\n",
       " <a list of 10 Patch objects>)"
      ]
     },
     "execution_count": 8,
     "metadata": {},
     "output_type": "execute_result"
    },
    {
     "data": {
      "image/png": "[encoded data removed]",
      "text/plain": [
       "<Figure size 432x288 with 5 Axes>"
      ]
     },
     "metadata": {
      "needs_background": "light"
     },
     "output_type": "display_data"
    }
   ],
   "source": [
    "_, (ax1, ax2, ax3, ax4, ax5) = plt.subplots(ncols=5)\n",
    "ax1.hist(data['AddressCount'])\n",
    "ax2.hist(data['CallsCount'])\n",
    "ax3.hist(data['ClicksCount'])\n",
    "ax4.hist(data['FirmsCount'])\n",
    "ax5.hist(data['UsersCount'])"
   ]
  },
  {
   "cell_type": "code",
   "execution_count": 9,
   "metadata": {},
   "outputs": [],
   "source": [
    "from scipy.stats import anderson"
   ]
  },
  {
   "cell_type": "code",
   "execution_count": 10,
   "metadata": {},
   "outputs": [
    {
     "name": "stdout",
     "output_type": "stream",
     "text": [
      "Подсчитаем для всех этих 5 признаков критерий АД на экспоненциальное распределение(т.к на него наиболее похожи):\n",
      "AddressCount:  7.175171805110651 > 1.941 при a=0.01, H0 отвергаем\n",
      "CallsCount:  6.3712215275769495 > 1.941 при a=0.01, H0 отвергаем\n",
      "ClicksCount:  7.111964348713258 > 1.941 при a=0.01, H0 отвергаем\n",
      "FirmsCount:  0.35589663392264015 < 1.941 при a=0.01, H0 принимаем\n",
      "UsersCount:  6.1567013050010075 > 1.941 при a=0.01, H0 отвергаем\n"
     ]
    }
   ],
   "source": [
    "print('Подсчитаем для всех этих 5 признаков критерий АД на экспоненциальное распределение(т.к на него наиболее похожи):')\n",
    "print('AddressCount: ', anderson(data['AddressCount'], dist='expon').statistic, '>',\n",
    "      anderson(data['AddressCount'], dist='expon').critical_values[4], 'при a=0.01, H0 отвергаем' )\n",
    "print('CallsCount: ', anderson(data['CallsCount'], dist='expon').statistic, '>',\n",
    "      anderson(data['CallsCount'], dist='expon').critical_values[4], 'при a=0.01, H0 отвергаем' )\n",
    "print('ClicksCount: ', anderson(data['ClicksCount'], dist='expon').statistic, '>',\n",
    "      anderson(data['ClicksCount'], dist='expon').critical_values[4], 'при a=0.01, H0 отвергаем' )\n",
    "print('FirmsCount: ', anderson(data['FirmsCount'], dist='expon').statistic, '<',\n",
    "      anderson(data['FirmsCount'], dist='expon').critical_values[4], 'при a=0.01, H0 принимаем' )\n",
    "print('UsersCount: ', anderson(data['UsersCount'], dist='expon').statistic, '>',\n",
    "      anderson(data['UsersCount'], dist='expon').critical_values[4], 'при a=0.01, H0 отвергаем' )\n"
   ]
  },
  {
   "cell_type": "markdown",
   "metadata": {},
   "source": [
    "Из всех этих распределений признаков мы можем с уверенностью сказать только про FirmsCount."
   ]
  },
  {
   "cell_type": "markdown",
   "metadata": {},
   "source": [
    "### Проверим скоррелированность наших переменных"
   ]
  },
  {
   "cell_type": "markdown",
   "metadata": {},
   "source": [
    "Наши распределения +- похожи по гистограммам, потому проверим корреляцию между величинами с помощью коэффициента Спирмена(т.к НСВ не нормальная)"
   ]
  },
  {
   "cell_type": "code",
   "execution_count": 11,
   "metadata": {},
   "outputs": [
    {
     "name": "stdout",
     "output_type": "stream",
     "text": [
      "Рассмотрим к-ты для AddressCount и остальных: 0.872316818250677 ,  0.9575242892048305 ,  0.7088303282657337 ,  0.9649923897475567 \n",
      "Мы видим, что эта переменная сильно скоррелирована с другими.\n",
      "Рассмотрим к-ты для CallsCount и остальных: 0.9061735419630155 ,  0.6662731069747219 ,  0.866145092460882 \n",
      "Мы видим, что эта переменная тоже сильно скоррелирована с другими.\n",
      "Рассмотрим к-ты для FirmsCount и UsersCount: 0.7447242830489692 \n",
      "Мы видим, что эти переменные тоже сильно скоррелированы.\n"
     ]
    }
   ],
   "source": [
    "from scipy.stats import spearmanr\n",
    "corradr_call, p = spearmanr(data.AddressCount, data.CallsCount)\n",
    "corradr_clicks, p = spearmanr(data.AddressCount, data.ClicksCount)\n",
    "corradr_firms, p = spearmanr(data.AddressCount, data.FirmsCount)\n",
    "corradr_users, p = spearmanr(data.AddressCount, data.UsersCount)\n",
    "print('Рассмотрим к-ты для AddressCount и остальных:', corradr_call, ', ', \n",
    "      corradr_clicks, ', ', corradr_firms, ', ', corradr_users,\n",
    "      '\\nМы видим, что эта переменная сильно скоррелирована с другими.')\n",
    "\n",
    "\n",
    "corrcall_clicks, p = spearmanr(data.CallsCount, data.ClicksCount)\n",
    "corrcall_firms, p = spearmanr(data.CallsCount, data.FirmsCount)\n",
    "corrcall_users, p = spearmanr(data.CallsCount, data.UsersCount)\n",
    "print('Рассмотрим к-ты для CallsCount и остальных:', corrcall_clicks, ', ', \n",
    "      corrcall_firms, ', ', corrcall_users, \n",
    "      '\\nМы видим, что эта переменная тоже сильно скоррелирована с другими.')\n",
    "\n",
    "corrfirms_users, p = spearmanr(data.FirmsCount, data.UsersCount)\n",
    "print('Рассмотрим к-ты для FirmsCount и UsersCount:', corrfirms_users,\n",
    "      '\\nМы видим, что эти переменные тоже сильно скоррелированы.')"
   ]
  },
  {
   "cell_type": "markdown",
   "metadata": {},
   "source": [
    "Оставим 3 переменные: AddressCount, CallsCount, FirmsCount для подсчета признака. Как признак возьмем переменную UsersCount."
   ]
  },
  {
   "cell_type": "code",
   "execution_count": 12,
   "metadata": {},
   "outputs": [],
   "source": [
    "y = data['UsersCount']\n",
    "data = data.drop(['ClicksCount', 'UsersCount', 'GeoPart', 'MobilePart', 'Distance'], axis='columns')"
   ]
  },
  {
   "cell_type": "code",
   "execution_count": 25,
   "metadata": {},
   "outputs": [],
   "source": [
    "data['CallsCount'] = (data['CallsCount'] - data['CallsCount'].min()) / (data['CallsCount'].max() - data['CallsCount'].min())\n",
    "data['FirmsCount'] = (data['FirmsCount'] - data['FirmsCount'].min()) / (data['FirmsCount'].max() - data['FirmsCount'].min())\n",
    "data['AddressCount'] = (data['AddressCount'] - data['AddressCount'].min()) / (data['AddressCount'].max() - data['AddressCount'].min())\n",
    "y = (y - y.min()) / (y.max() - y.min())\n"
   ]
  },
  {
   "cell_type": "markdown",
   "metadata": {},
   "source": [
    "Построим регрессию:"
   ]
  },
  {
   "cell_type": "code",
   "execution_count": 32,
   "metadata": {},
   "outputs": [],
   "source": [
    "from sklearn.linear_model import LinearRegression"
   ]
  },
  {
   "cell_type": "code",
   "execution_count": 33,
   "metadata": {},
   "outputs": [
    {
     "data": {
      "text/plain": [
       "LinearRegression()"
      ]
     },
     "execution_count": 33,
     "metadata": {},
     "output_type": "execute_result"
    }
   ],
   "source": [
    "lin_regr = LinearRegression()\n",
    "lin_regr.fit(data, y)"
   ]
  },
  {
   "cell_type": "markdown",
   "metadata": {},
   "source": [
    "Коэффициенты регрессии:"
   ]
  },
  {
   "cell_type": "code",
   "execution_count": 34,
   "metadata": {},
   "outputs": [
    {
     "data": {
      "text/plain": [
       "array([0.76902731, 0.03032046, 0.13495451, 0.05932247])"
      ]
     },
     "execution_count": 34,
     "metadata": {},
     "output_type": "execute_result"
    }
   ],
   "source": [
    "lin_regr.coef_"
   ]
  },
  {
   "cell_type": "markdown",
   "metadata": {},
   "source": [
    "Найдем коэффициент детерминации:"
   ]
  },
  {
   "cell_type": "code",
   "execution_count": 35,
   "metadata": {},
   "outputs": [],
   "source": [
    "from sklearn.metrics import r2_score"
   ]
  },
  {
   "cell_type": "code",
   "execution_count": 36,
   "metadata": {},
   "outputs": [
    {
     "data": {
      "text/plain": [
       "0.9077587905737353"
      ]
     },
     "execution_count": 36,
     "metadata": {},
     "output_type": "execute_result"
    }
   ],
   "source": [
    "r2_score(y, lin_regr.predict(data))"
   ]
  },
  {
   "cell_type": "markdown",
   "metadata": {},
   "source": [
    "Посчитаем VIF:"
   ]
  },
  {
   "cell_type": "code",
   "execution_count": 40,
   "metadata": {},
   "outputs": [],
   "source": [
    "from statsmodels.stats.outliers_influence import variance_inflation_factor\n",
    "from statsmodels.tools.tools import add_constant"
   ]
  },
  {
   "cell_type": "code",
   "execution_count": 41,
   "metadata": {},
   "outputs": [
    {
     "data": {
      "text/plain": [
       "const           2.256350\n",
       "AddressCount    2.801441\n",
       "CallsCount      2.269197\n",
       "FirmsCount      1.761609\n",
       "IsGeo           1.271737\n",
       "dtype: float64"
      ]
     },
     "execution_count": 41,
     "metadata": {},
     "output_type": "execute_result"
    }
   ],
   "source": [
    "X = add_constant(data)\n",
    "pd.Series([variance_inflation_factor(X.values, i) \n",
    "               for i in range(X.shape[1])], \n",
    "              index=X.columns)\n",
    "\n",
    "\n",
    "#variance_inflation_factor(data)"
   ]
  },
  {
   "cell_type": "code",
   "execution_count": 45,
   "metadata": {},
   "outputs": [
    {
     "data": {
      "text/html": [
       "<div>\n",
       "<style scoped>\n",
       "    .dataframe tbody tr th:only-of-type {\n",
       "        vertical-align: middle;\n",
       "    }\n",
       "\n",
       "    .dataframe tbody tr th {\n",
       "        vertical-align: top;\n",
       "    }\n",
       "\n",
       "    .dataframe thead th {\n",
       "        text-align: right;\n",
       "    }\n",
       "</style>\n",
       "<table border=\"1\" class=\"dataframe\">\n",
       "  <thead>\n",
       "    <tr style=\"text-align: right;\">\n",
       "      <th></th>\n",
       "      <th>AddressCount</th>\n",
       "      <th>CallsCount</th>\n",
       "      <th>FirmsCount</th>\n",
       "      <th>IsGeo</th>\n",
       "    </tr>\n",
       "  </thead>\n",
       "  <tbody>\n",
       "    <tr>\n",
       "      <th>0</th>\n",
       "      <td>0.035042</td>\n",
       "      <td>0.000000</td>\n",
       "      <td>0.204545</td>\n",
       "      <td>1</td>\n",
       "    </tr>\n",
       "    <tr>\n",
       "      <th>1</th>\n",
       "      <td>0.001907</td>\n",
       "      <td>0.000826</td>\n",
       "      <td>0.007576</td>\n",
       "      <td>0</td>\n",
       "    </tr>\n",
       "    <tr>\n",
       "      <th>2</th>\n",
       "      <td>0.016448</td>\n",
       "      <td>0.001749</td>\n",
       "      <td>0.215909</td>\n",
       "      <td>1</td>\n",
       "    </tr>\n",
       "    <tr>\n",
       "      <th>3</th>\n",
       "      <td>0.001192</td>\n",
       "      <td>0.002428</td>\n",
       "      <td>0.006313</td>\n",
       "      <td>0</td>\n",
       "    </tr>\n",
       "    <tr>\n",
       "      <th>4</th>\n",
       "      <td>0.024315</td>\n",
       "      <td>0.003400</td>\n",
       "      <td>0.095960</td>\n",
       "      <td>1</td>\n",
       "    </tr>\n",
       "    <tr>\n",
       "      <th>...</th>\n",
       "      <td>...</td>\n",
       "      <td>...</td>\n",
       "      <td>...</td>\n",
       "      <td>...</td>\n",
       "    </tr>\n",
       "    <tr>\n",
       "      <th>72</th>\n",
       "      <td>0.980215</td>\n",
       "      <td>0.485648</td>\n",
       "      <td>0.988636</td>\n",
       "      <td>1</td>\n",
       "    </tr>\n",
       "    <tr>\n",
       "      <th>73</th>\n",
       "      <td>0.837187</td>\n",
       "      <td>0.591044</td>\n",
       "      <td>0.241162</td>\n",
       "      <td>1</td>\n",
       "    </tr>\n",
       "    <tr>\n",
       "      <th>74</th>\n",
       "      <td>0.602145</td>\n",
       "      <td>0.603040</td>\n",
       "      <td>0.125000</td>\n",
       "      <td>0</td>\n",
       "    </tr>\n",
       "    <tr>\n",
       "      <th>75</th>\n",
       "      <td>0.260787</td>\n",
       "      <td>0.620963</td>\n",
       "      <td>0.501263</td>\n",
       "      <td>0</td>\n",
       "    </tr>\n",
       "    <tr>\n",
       "      <th>76</th>\n",
       "      <td>0.744458</td>\n",
       "      <td>1.000000</td>\n",
       "      <td>0.498737</td>\n",
       "      <td>0</td>\n",
       "    </tr>\n",
       "  </tbody>\n",
       "</table>\n",
       "<p>75 rows × 4 columns</p>\n",
       "</div>"
      ],
      "text/plain": [
       "    AddressCount  CallsCount  FirmsCount  IsGeo\n",
       "0       0.035042    0.000000    0.204545      1\n",
       "1       0.001907    0.000826    0.007576      0\n",
       "2       0.016448    0.001749    0.215909      1\n",
       "3       0.001192    0.002428    0.006313      0\n",
       "4       0.024315    0.003400    0.095960      1\n",
       "..           ...         ...         ...    ...\n",
       "72      0.980215    0.485648    0.988636      1\n",
       "73      0.837187    0.591044    0.241162      1\n",
       "74      0.602145    0.603040    0.125000      0\n",
       "75      0.260787    0.620963    0.501263      0\n",
       "76      0.744458    1.000000    0.498737      0\n",
       "\n",
       "[75 rows x 4 columns]"
      ]
     },
     "execution_count": 45,
     "metadata": {},
     "output_type": "execute_result"
    }
   ],
   "source": [
    "data"
   ]
  },
  {
   "cell_type": "code",
   "execution_count": null,
   "metadata": {},
   "outputs": [],
   "source": []
  },
  {
   "cell_type": "markdown",
   "metadata": {},
   "source": [
    "Поскольку все значения статистики < 10, то вряд ли у нас встречается мультиколлинеарность."
   ]
  },
  {
   "cell_type": "markdown",
   "metadata": {},
   "source": [
    "Посмотрим на разброс самого значимого признака и регрессию для проверки гетероскедастичности:"
   ]
  },
  {
   "cell_type": "code",
   "execution_count": 55,
   "metadata": {},
   "outputs": [
    {
     "name": "stdout",
     "output_type": "stream",
     "text": [
      "(50,) (50,)\n"
     ]
    },
    {
     "data": {
      "image/png": "[encoded data removed]",
      "text/plain": [
       "<Figure size 432x288 with 1 Axes>"
      ]
     },
     "metadata": {
      "needs_background": "light"
     },
     "output_type": "display_data"
    }
   ],
   "source": [
    "\n",
    "plt.scatter(data['AddressCount'], y)\n",
    "x = np.linspace(0, 1)\n",
    "y_ = x * lin_regr.coef_[0]\n",
    "plt.plot(x, y_)\n",
    "plt.show()"
   ]
  },
  {
   "cell_type": "markdown",
   "metadata": {},
   "source": [
    "Мы видим, что по графику очень похоже, что у нас присуствует гетероскедастичность. Это происходит из-за особенностей данных."
   ]
  },
  {
   "cell_type": "code",
   "execution_count": 56,
   "metadata": {},
   "outputs": [],
   "source": [
    "from statsmodels.stats.stattools import durbin_watson"
   ]
  },
  {
   "cell_type": "code",
   "execution_count": 57,
   "metadata": {},
   "outputs": [
    {
     "data": {
      "text/plain": [
       "array([0.35340311, 0.04653299, 0.4207456 , 1.48      ])"
      ]
     },
     "execution_count": 57,
     "metadata": {},
     "output_type": "execute_result"
    }
   ],
   "source": [
    "durbin_watson(data)"
   ]
  },
  {
   "cell_type": "markdown",
   "metadata": {},
   "source": [
    "Мы можем наблюдать автокорреляцию остатков в AddressCount, CallsCount, FirmsCount"
   ]
  },
  {
   "cell_type": "markdown",
   "metadata": {},
   "source": [
    "Проверим критерием Стьюдента на значимость признаков:"
   ]
  },
  {
   "cell_type": "code",
   "execution_count": 60,
   "metadata": {},
   "outputs": [
    {
     "name": "stdout",
     "output_type": "stream",
     "text": [
      "Рассмотрим к-ты для таргета и фич: 0.9649923897475566 ,  0.7447242830489691 ,  0.866145092460882\n"
     ]
    }
   ],
   "source": [
    "\n",
    "corradr_clicks, p = spearmanr(y, data.AddressCount)\n",
    "corradr_firms, p = spearmanr(y, data.FirmsCount)\n",
    "corradr_users, p = spearmanr(y, data.CallsCount)\n",
    "print('Рассмотрим к-ты для таргета и фич:', \n",
    "      corradr_clicks, ', ', corradr_firms, ', ', corradr_users)\n"
   ]
  },
  {
   "cell_type": "markdown",
   "metadata": {},
   "source": [
    "Посмотрим на статистики Стьюдента:"
   ]
  },
  {
   "cell_type": "code",
   "execution_count": 63,
   "metadata": {},
   "outputs": [
    {
     "data": {
      "text/plain": [
       "32.07517359555236"
      ]
     },
     "execution_count": 63,
     "metadata": {},
     "output_type": "execute_result"
    }
   ],
   "source": [
    "t1 = corradr_clicks * np.sqrt(76) / np.sqrt(1 - corradr_clicks **2)\n",
    "t1"
   ]
  },
  {
   "cell_type": "code",
   "execution_count": 65,
   "metadata": {},
   "outputs": [
    {
     "data": {
      "text/plain": [
       "9.728237306328063"
      ]
     },
     "execution_count": 65,
     "metadata": {},
     "output_type": "execute_result"
    }
   ],
   "source": [
    "t2 = corradr_firms * np.sqrt(76) / np.sqrt(1 - corradr_firms **2)\n",
    "t2"
   ]
  },
  {
   "cell_type": "code",
   "execution_count": 66,
   "metadata": {},
   "outputs": [
    {
     "data": {
      "text/plain": [
       "15.108021439299462"
      ]
     },
     "execution_count": 66,
     "metadata": {},
     "output_type": "execute_result"
    }
   ],
   "source": [
    "t2 = corradr_users * np.sqrt(76) / np.sqrt(1 - corradr_users **2)\n",
    "t2"
   ]
  },
  {
   "cell_type": "markdown",
   "metadata": {},
   "source": [
    "Крит.точка даже для alpha = 0.001, k = 75 t = 3.46, все наши статистики больше => отвергаем H0 о равенстве к-оф к-ции 0, все фичи важны.\n"
   ]
  },
  {
   "cell_type": "markdown",
   "metadata": {},
   "source": [
    "Все выбранные фичи значимы и прямо пропорционально линейно связаны с количеством кликов. В данных присуствует гетероскедастичность, которую можно объяснить нашим набором данных. "
   ]
  },
  {
   "cell_type": "markdown",
   "metadata": {},
   "source": [
    "### Вывод:"
   ]
  },
  {
   "cell_type": "markdown",
   "metadata": {},
   "source": [
    "В исходных данных присуствовали выбросы, мы их удалили.\n",
    "\n",
    "Все переменные в данных скоррелированы между собой, что объясняется природой данных(если заведение популярно, то и к-во просмотров с разных источников велико)\n",
    "При этом данные не мультиколлинеарны. \n",
    "\n",
    "В данных присуствует гетероскедастичность, которая объясняется природой данных(чем более место популярно, тем больше людей заинтересованы в каком-либо действии с ним)\n",
    "\n",
    "По данным построена линейная модель, в которой все параметры значимы."
   ]
  }
 ],
 "metadata": {
  "kernelspec": {
   "display_name": "Python 3",
   "language": "python",
   "name": "python3"
  },
  "language_info": {
   "codemirror_mode": {
    "name": "ipython",
    "version": 3
   },
   "file_extension": ".py",
   "mimetype": "text/x-python",
   "name": "python",
   "nbconvert_exporter": "python",
   "pygments_lexer": "ipython3",
   "version": "3.7.6"
  }
 },
 "nbformat": 4,
 "nbformat_minor": 4
}
