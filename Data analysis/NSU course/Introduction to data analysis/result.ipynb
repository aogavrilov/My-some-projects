{
 "cells": [
  {
   "cell_type": "markdown",
   "metadata": {},
   "source": [
    "## Загрузим данные"
   ]
  },
  {
   "cell_type": "code",
   "execution_count": null,
   "metadata": {},
   "outputs": [],
   "source": [
    "import pandas as pd"
   ]
  },
  {
   "cell_type": "code",
   "execution_count": 4,
   "metadata": {},
   "outputs": [],
   "source": [
    "data = pd.read_csv('data.csv', ';')"
   ]
  },
  {
   "cell_type": "code",
   "execution_count": 5,
   "metadata": {},
   "outputs": [
    {
     "data": {
      "text/html": [
       "<div>\n",
       "<style scoped>\n",
       "    .dataframe tbody tr th:only-of-type {\n",
       "        vertical-align: middle;\n",
       "    }\n",
       "\n",
       "    .dataframe tbody tr th {\n",
       "        vertical-align: top;\n",
       "    }\n",
       "\n",
       "    .dataframe thead th {\n",
       "        text-align: right;\n",
       "    }\n",
       "</style>\n",
       "<table border=\"1\" class=\"dataframe\">\n",
       "  <thead>\n",
       "    <tr style=\"text-align: right;\">\n",
       "      <th></th>\n",
       "      <th>AddressCount</th>\n",
       "      <th>CallsCount</th>\n",
       "      <th>ClicksCount</th>\n",
       "      <th>FirmsCount</th>\n",
       "      <th>GeoPart</th>\n",
       "      <th>MobilePart</th>\n",
       "      <th>UsersCount</th>\n",
       "      <th>Distance</th>\n",
       "      <th>IsGeo</th>\n",
       "    </tr>\n",
       "  </thead>\n",
       "  <tbody>\n",
       "    <tr>\n",
       "      <th>0</th>\n",
       "      <td>156</td>\n",
       "      <td>20</td>\n",
       "      <td>1903</td>\n",
       "      <td>176</td>\n",
       "      <td>0,416104363472785</td>\n",
       "      <td>0,535762483130904</td>\n",
       "      <td>1125</td>\n",
       "      <td>749,966084023684</td>\n",
       "      <td>1</td>\n",
       "    </tr>\n",
       "    <tr>\n",
       "      <th>1</th>\n",
       "      <td>17</td>\n",
       "      <td>37</td>\n",
       "      <td>258</td>\n",
       "      <td>20</td>\n",
       "      <td>0,211678832116788</td>\n",
       "      <td>0,430656934306569</td>\n",
       "      <td>157</td>\n",
       "      <td>2289,03242434015</td>\n",
       "      <td>0</td>\n",
       "    </tr>\n",
       "    <tr>\n",
       "      <th>2</th>\n",
       "      <td>78</td>\n",
       "      <td>56</td>\n",
       "      <td>1956</td>\n",
       "      <td>185</td>\n",
       "      <td>0,349475383373688</td>\n",
       "      <td>0,476594027441485</td>\n",
       "      <td>1195</td>\n",
       "      <td>1423,37651183958</td>\n",
       "      <td>1</td>\n",
       "    </tr>\n",
       "    <tr>\n",
       "      <th>3</th>\n",
       "      <td>14</td>\n",
       "      <td>70</td>\n",
       "      <td>378</td>\n",
       "      <td>19</td>\n",
       "      <td>0,318718381112985</td>\n",
       "      <td>0,463743676222597</td>\n",
       "      <td>206</td>\n",
       "      <td>3396,56608856838</td>\n",
       "      <td>0</td>\n",
       "    </tr>\n",
       "    <tr>\n",
       "      <th>4</th>\n",
       "      <td>111</td>\n",
       "      <td>90</td>\n",
       "      <td>4089</td>\n",
       "      <td>90</td>\n",
       "      <td>0,55617545209696</td>\n",
       "      <td>0,490573297422085</td>\n",
       "      <td>2934</td>\n",
       "      <td>1576,51415402623</td>\n",
       "      <td>1</td>\n",
       "    </tr>\n",
       "  </tbody>\n",
       "</table>\n",
       "</div>"
      ],
      "text/plain": [
       "   AddressCount  CallsCount  ClicksCount  FirmsCount            GeoPart  \\\n",
       "0           156          20         1903         176  0,416104363472785   \n",
       "1            17          37          258          20  0,211678832116788   \n",
       "2            78          56         1956         185  0,349475383373688   \n",
       "3            14          70          378          19  0,318718381112985   \n",
       "4           111          90         4089          90   0,55617545209696   \n",
       "\n",
       "          MobilePart  UsersCount          Distance  IsGeo  \n",
       "0  0,535762483130904        1125  749,966084023684      1  \n",
       "1  0,430656934306569         157  2289,03242434015      0  \n",
       "2  0,476594027441485        1195  1423,37651183958      1  \n",
       "3  0,463743676222597         206  3396,56608856838      0  \n",
       "4  0,490573297422085        2934  1576,51415402623      1  "
      ]
     },
     "execution_count": 5,
     "metadata": {},
     "output_type": "execute_result"
    }
   ],
   "source": [
    "data.head()"
   ]
  },
  {
   "cell_type": "markdown",
   "metadata": {},
   "source": [
    "## 1. Рассмотрим статистики по нашим данным"
   ]
  },
  {
   "cell_type": "code",
   "execution_count": 12,
   "metadata": {},
   "outputs": [
    {
     "data": {
      "text/html": [
       "<div>\n",
       "<style scoped>\n",
       "    .dataframe tbody tr th:only-of-type {\n",
       "        vertical-align: middle;\n",
       "    }\n",
       "\n",
       "    .dataframe tbody tr th {\n",
       "        vertical-align: top;\n",
       "    }\n",
       "\n",
       "    .dataframe thead th {\n",
       "        text-align: right;\n",
       "    }\n",
       "</style>\n",
       "<table border=\"1\" class=\"dataframe\">\n",
       "  <thead>\n",
       "    <tr style=\"text-align: right;\">\n",
       "      <th></th>\n",
       "      <th>AddressCount</th>\n",
       "      <th>CallsCount</th>\n",
       "      <th>ClicksCount</th>\n",
       "      <th>FirmsCount</th>\n",
       "      <th>UsersCount</th>\n",
       "      <th>IsGeo</th>\n",
       "    </tr>\n",
       "  </thead>\n",
       "  <tbody>\n",
       "    <tr>\n",
       "      <th>count</th>\n",
       "      <td>79.000000</td>\n",
       "      <td>79.000000</td>\n",
       "      <td>79.000000</td>\n",
       "      <td>79.000000</td>\n",
       "      <td>79.000000</td>\n",
       "      <td>79.000000</td>\n",
       "    </tr>\n",
       "    <tr>\n",
       "      <th>mean</th>\n",
       "      <td>1048.037975</td>\n",
       "      <td>3648.683544</td>\n",
       "      <td>21826.012658</td>\n",
       "      <td>305.088608</td>\n",
       "      <td>9753.126582</td>\n",
       "      <td>0.354430</td>\n",
       "    </tr>\n",
       "    <tr>\n",
       "      <th>std</th>\n",
       "      <td>1642.066119</td>\n",
       "      <td>8124.105402</td>\n",
       "      <td>32474.959513</td>\n",
       "      <td>382.052090</td>\n",
       "      <td>13927.295721</td>\n",
       "      <td>0.481397</td>\n",
       "    </tr>\n",
       "    <tr>\n",
       "      <th>min</th>\n",
       "      <td>9.000000</td>\n",
       "      <td>20.000000</td>\n",
       "      <td>258.000000</td>\n",
       "      <td>14.000000</td>\n",
       "      <td>157.000000</td>\n",
       "      <td>0.000000</td>\n",
       "    </tr>\n",
       "    <tr>\n",
       "      <th>25%</th>\n",
       "      <td>81.000000</td>\n",
       "      <td>346.000000</td>\n",
       "      <td>2055.000000</td>\n",
       "      <td>71.500000</td>\n",
       "      <td>1167.500000</td>\n",
       "      <td>0.000000</td>\n",
       "    </tr>\n",
       "    <tr>\n",
       "      <th>50%</th>\n",
       "      <td>371.000000</td>\n",
       "      <td>931.000000</td>\n",
       "      <td>6921.000000</td>\n",
       "      <td>185.000000</td>\n",
       "      <td>2934.000000</td>\n",
       "      <td>0.000000</td>\n",
       "    </tr>\n",
       "    <tr>\n",
       "      <th>75%</th>\n",
       "      <td>1195.000000</td>\n",
       "      <td>2457.500000</td>\n",
       "      <td>30625.500000</td>\n",
       "      <td>402.500000</td>\n",
       "      <td>13265.000000</td>\n",
       "      <td>1.000000</td>\n",
       "    </tr>\n",
       "    <tr>\n",
       "      <th>max</th>\n",
       "      <td>9552.000000</td>\n",
       "      <td>48497.000000</td>\n",
       "      <td>167155.000000</td>\n",
       "      <td>2379.000000</td>\n",
       "      <td>61127.000000</td>\n",
       "      <td>1.000000</td>\n",
       "    </tr>\n",
       "  </tbody>\n",
       "</table>\n",
       "</div>"
      ],
      "text/plain": [
       "       AddressCount    CallsCount    ClicksCount   FirmsCount    UsersCount  \\\n",
       "count     79.000000     79.000000      79.000000    79.000000     79.000000   \n",
       "mean    1048.037975   3648.683544   21826.012658   305.088608   9753.126582   \n",
       "std     1642.066119   8124.105402   32474.959513   382.052090  13927.295721   \n",
       "min        9.000000     20.000000     258.000000    14.000000    157.000000   \n",
       "25%       81.000000    346.000000    2055.000000    71.500000   1167.500000   \n",
       "50%      371.000000    931.000000    6921.000000   185.000000   2934.000000   \n",
       "75%     1195.000000   2457.500000   30625.500000   402.500000  13265.000000   \n",
       "max     9552.000000  48497.000000  167155.000000  2379.000000  61127.000000   \n",
       "\n",
       "           IsGeo  \n",
       "count  79.000000  \n",
       "mean    0.354430  \n",
       "std     0.481397  \n",
       "min     0.000000  \n",
       "25%     0.000000  \n",
       "50%     0.000000  \n",
       "75%     1.000000  \n",
       "max     1.000000  "
      ]
     },
     "execution_count": 12,
     "metadata": {},
     "output_type": "execute_result"
    }
   ],
   "source": [
    "data.describe()"
   ]
  },
  {
   "cell_type": "code",
   "execution_count": 9,
   "metadata": {},
   "outputs": [
    {
     "data": {
      "text/plain": [
       "0.35443037974683544"
      ]
     },
     "execution_count": 9,
     "metadata": {},
     "output_type": "execute_result"
    }
   ],
   "source": [
    "data['IsGeo'].sum() / 79"
   ]
  },
  {
   "cell_type": "markdown",
   "metadata": {},
   "source": [
    "## 2. Рассмотрим более подробно признак \"Calls Count\""
   ]
  },
  {
   "cell_type": "code",
   "execution_count": 13,
   "metadata": {},
   "outputs": [],
   "source": [
    "new_data = data.drop(['AddressCount', 'ClicksCount', 'FirmsCount', 'UsersCount',\n",
    "                      'GeoPart', 'MobilePart', 'Distance'], axis='columns')"
   ]
  },
  {
   "cell_type": "code",
   "execution_count": 14,
   "metadata": {},
   "outputs": [
    {
     "data": {
      "text/html": [
       "<div>\n",
       "<style scoped>\n",
       "    .dataframe tbody tr th:only-of-type {\n",
       "        vertical-align: middle;\n",
       "    }\n",
       "\n",
       "    .dataframe tbody tr th {\n",
       "        vertical-align: top;\n",
       "    }\n",
       "\n",
       "    .dataframe thead th {\n",
       "        text-align: right;\n",
       "    }\n",
       "</style>\n",
       "<table border=\"1\" class=\"dataframe\">\n",
       "  <thead>\n",
       "    <tr style=\"text-align: right;\">\n",
       "      <th></th>\n",
       "      <th>CallsCount</th>\n",
       "      <th>IsGeo</th>\n",
       "    </tr>\n",
       "  </thead>\n",
       "  <tbody>\n",
       "    <tr>\n",
       "      <th>0</th>\n",
       "      <td>20</td>\n",
       "      <td>1</td>\n",
       "    </tr>\n",
       "    <tr>\n",
       "      <th>1</th>\n",
       "      <td>37</td>\n",
       "      <td>0</td>\n",
       "    </tr>\n",
       "    <tr>\n",
       "      <th>2</th>\n",
       "      <td>56</td>\n",
       "      <td>1</td>\n",
       "    </tr>\n",
       "    <tr>\n",
       "      <th>3</th>\n",
       "      <td>70</td>\n",
       "      <td>0</td>\n",
       "    </tr>\n",
       "    <tr>\n",
       "      <th>4</th>\n",
       "      <td>90</td>\n",
       "      <td>1</td>\n",
       "    </tr>\n",
       "  </tbody>\n",
       "</table>\n",
       "</div>"
      ],
      "text/plain": [
       "   CallsCount  IsGeo\n",
       "0          20      1\n",
       "1          37      0\n",
       "2          56      1\n",
       "3          70      0\n",
       "4          90      1"
      ]
     },
     "execution_count": 14,
     "metadata": {},
     "output_type": "execute_result"
    }
   ],
   "source": [
    "new_data.head()"
   ]
  },
  {
   "cell_type": "code",
   "execution_count": 15,
   "metadata": {},
   "outputs": [],
   "source": [
    "import matplotlib.pyplot as plt"
   ]
  },
  {
   "cell_type": "markdown",
   "metadata": {},
   "source": [
    "Посмотрим на график вариационного ряда признака"
   ]
  },
  {
   "cell_type": "code",
   "execution_count": 20,
   "metadata": {},
   "outputs": [
    {
     "data": {
      "text/plain": [
       "[<matplotlib.lines.Line2D at 0x22cd78bfe88>]"
      ]
     },
     "execution_count": 20,
     "metadata": {},
     "output_type": "execute_result"
    },
    {
     "data": {
      "image/png": "[encoded data removed]",
      "text/plain": [
       "<Figure size 432x288 with 1 Axes>"
      ]
     },
     "metadata": {
      "needs_background": "light"
     },
     "output_type": "display_data"
    }
   ],
   "source": [
    "plt.plot(new_data['CallsCount'])\n"
   ]
  },
  {
   "cell_type": "markdown",
   "metadata": {},
   "source": [
    "### Обратимся к более показательным графикам:"
   ]
  },
  {
   "cell_type": "markdown",
   "metadata": {},
   "source": [
    "#### Box plot:"
   ]
  },
  {
   "cell_type": "code",
   "execution_count": 21,
   "metadata": {},
   "outputs": [
    {
     "data": {
      "text/plain": [
       "{'whiskers': [<matplotlib.lines.Line2D at 0x22cd793fcc8>,\n",
       "  <matplotlib.lines.Line2D at 0x22cd793fdc8>],\n",
       " 'caps': [<matplotlib.lines.Line2D at 0x22cd793fe48>,\n",
       "  <matplotlib.lines.Line2D at 0x22cd7942d48>],\n",
       " 'boxes': [<matplotlib.lines.Line2D at 0x22cd793f688>],\n",
       " 'medians': [<matplotlib.lines.Line2D at 0x22cd7942e48>],\n",
       " 'fliers': [<matplotlib.lines.Line2D at 0x22cd7942ec8>],\n",
       " 'means': []}"
      ]
     },
     "execution_count": 21,
     "metadata": {},
     "output_type": "execute_result"
    },
    {
     "data": {
      "image/png": "[encoded data removed]",
      "text/plain": [
       "<Figure size 432x288 with 1 Axes>"
      ]
     },
     "metadata": {
      "needs_background": "light"
     },
     "output_type": "display_data"
    }
   ],
   "source": [
    "plt.boxplot(new_data['CallsCount'])"
   ]
  },
  {
   "cell_type": "markdown",
   "metadata": {},
   "source": [
    "На данном графике мы видим, что есть 2(+1) больших выброса. Рассмотрим гистограмму:"
   ]
  },
  {
   "cell_type": "code",
   "execution_count": 34,
   "metadata": {},
   "outputs": [
    {
     "data": {
      "text/plain": [
       "(array([41., 11., 10.,  1.,  1.,  2.,  2.,  1.,  2.,  1.,  1.,  0.,  2.,\n",
       "         1.,  0.,  0.,  0.,  0.,  0.,  0.,  0.,  1.,  0.,  0.,  0.,  0.,\n",
       "         0.,  0.,  0.,  0.,  0.,  0.,  0.,  0.,  0.,  0.,  0.,  0.,  0.,\n",
       "         0.,  0.,  0.,  0.,  0.,  0.,  0.,  0.,  0.,  0.,  2.]),\n",
       " array([2.000000e+01, 9.895400e+02, 1.959080e+03, 2.928620e+03,\n",
       "        3.898160e+03, 4.867700e+03, 5.837240e+03, 6.806780e+03,\n",
       "        7.776320e+03, 8.745860e+03, 9.715400e+03, 1.068494e+04,\n",
       "        1.165448e+04, 1.262402e+04, 1.359356e+04, 1.456310e+04,\n",
       "        1.553264e+04, 1.650218e+04, 1.747172e+04, 1.844126e+04,\n",
       "        1.941080e+04, 2.038034e+04, 2.134988e+04, 2.231942e+04,\n",
       "        2.328896e+04, 2.425850e+04, 2.522804e+04, 2.619758e+04,\n",
       "        2.716712e+04, 2.813666e+04, 2.910620e+04, 3.007574e+04,\n",
       "        3.104528e+04, 3.201482e+04, 3.298436e+04, 3.395390e+04,\n",
       "        3.492344e+04, 3.589298e+04, 3.686252e+04, 3.783206e+04,\n",
       "        3.880160e+04, 3.977114e+04, 4.074068e+04, 4.171022e+04,\n",
       "        4.267976e+04, 4.364930e+04, 4.461884e+04, 4.558838e+04,\n",
       "        4.655792e+04, 4.752746e+04, 4.849700e+04]),\n",
       " <a list of 50 Patch objects>)"
      ]
     },
     "execution_count": 34,
     "metadata": {},
     "output_type": "execute_result"
    },
    {
     "data": {
      "image/png": "[encoded data removed]",
      "text/plain": [
       "<Figure size 432x288 with 1 Axes>"
      ]
     },
     "metadata": {
      "needs_background": "light"
     },
     "output_type": "display_data"
    }
   ],
   "source": [
    "plt.hist(new_data['CallsCount'], bins='auto')"
   ]
  },
  {
   "cell_type": "markdown",
   "metadata": {},
   "source": [
    "Попробуем предположить, что это связано с миксом в данных(т.е в зависимости от IsGeo мы имеем разные распределения)"
   ]
  },
  {
   "cell_type": "code",
   "execution_count": 40,
   "metadata": {},
   "outputs": [
    {
     "data": {
      "text/plain": [
       "<matplotlib.collections.PathCollection at 0x22cd9744f88>"
      ]
     },
     "execution_count": 40,
     "metadata": {},
     "output_type": "execute_result"
    },
    {
     "data": {
      "image/png": "[encoded data removed]",
      "text/plain": [
       "<Figure size 432x288 with 1 Axes>"
      ]
     },
     "metadata": {
      "needs_background": "light"
     },
     "output_type": "display_data"
    }
   ],
   "source": [
    "plt.scatter(new_data['CallsCount'], new_data['IsGeo'])"
   ]
  },
  {
   "cell_type": "code",
   "execution_count": 51,
   "metadata": {},
   "outputs": [
    {
     "data": {
      "text/plain": [
       "{'whiskers': [<matplotlib.lines.Line2D at 0x22cd9bbaf88>,\n",
       "  <matplotlib.lines.Line2D at 0x22cd9bc3d08>],\n",
       " 'caps': [<matplotlib.lines.Line2D at 0x22cd9bc3d88>,\n",
       "  <matplotlib.lines.Line2D at 0x22cd9bc9c88>],\n",
       " 'boxes': [<matplotlib.lines.Line2D at 0x22cd9bc3648>],\n",
       " 'medians': [<matplotlib.lines.Line2D at 0x22cd9bc9d88>],\n",
       " 'fliers': [<matplotlib.lines.Line2D at 0x22cd9bc9e08>],\n",
       " 'means': []}"
      ]
     },
     "execution_count": 51,
     "metadata": {},
     "output_type": "execute_result"
    },
    {
     "data": {
      "image/png": "[encoded data removed]",
      "text/plain": [
       "<Figure size 432x288 with 2 Axes>"
      ]
     },
     "metadata": {
      "needs_background": "light"
     },
     "output_type": "display_data"
    }
   ],
   "source": [
    "_, (ax1, ax2) = plt.subplots(ncols=2)\n",
    "ax1.boxplot(new_data[new_data['IsGeo'] == 0]['CallsCount'])\n",
    "ax2.boxplot(new_data[new_data['IsGeo'] == 1]['CallsCount'])"
   ]
  },
  {
   "cell_type": "markdown",
   "metadata": {},
   "source": [
    "Заметим, что для обоих распределений точки > 20000 являются выбросами."
   ]
  },
  {
   "cell_type": "code",
   "execution_count": 53,
   "metadata": {},
   "outputs": [
    {
     "data": {
      "text/plain": [
       "(array([19.,  3.,  1.,  3.,  1.,  0.,  0.,  0.,  0.,  0.,  0.,  0.,  0.,\n",
       "         0.,  0.,  0.,  0.,  1.]),\n",
       " array([2.00000000e+01, 2.71316667e+03, 5.40633333e+03, 8.09950000e+03,\n",
       "        1.07926667e+04, 1.34858333e+04, 1.61790000e+04, 1.88721667e+04,\n",
       "        2.15653333e+04, 2.42585000e+04, 2.69516667e+04, 2.96448333e+04,\n",
       "        3.23380000e+04, 3.50311667e+04, 3.77243333e+04, 4.04175000e+04,\n",
       "        4.31106667e+04, 4.58038333e+04, 4.84970000e+04]),\n",
       " <a list of 18 Patch objects>)"
      ]
     },
     "execution_count": 53,
     "metadata": {},
     "output_type": "execute_result"
    },
    {
     "data": {
      "image/png": "[encoded data removed]",
      "text/plain": [
       "<Figure size 432x288 with 2 Axes>"
      ]
     },
     "metadata": {
      "needs_background": "light"
     },
     "output_type": "display_data"
    }
   ],
   "source": [
    "_, (ax1, ax2) = plt.subplots(ncols=2)\n",
    "ax1.hist(new_data[new_data['IsGeo'] == 0]['CallsCount'], bins='auto')\n",
    "ax2.hist(new_data[new_data['IsGeo'] == 1]['CallsCount'], bins='auto')"
   ]
  },
  {
   "cell_type": "markdown",
   "metadata": {},
   "source": [
    "По графику с 'IsGeo'==1 мы можем предположить гамма распределение, по графикам с 'IsGeo'==0 и смеси этих 2 выборок мы не можем выдвинуть гипотезу об их распределении."
   ]
  },
  {
   "cell_type": "code",
   "execution_count": 58,
   "metadata": {},
   "outputs": [
    {
     "data": {
      "text/plain": [
       "{'whiskers': [<matplotlib.lines.Line2D at 0x22cdaeb7c88>,\n",
       "  <matplotlib.lines.Line2D at 0x22cdaeb7d48>],\n",
       " 'caps': [<matplotlib.lines.Line2D at 0x22cdaebcec8>,\n",
       "  <matplotlib.lines.Line2D at 0x22cdaeb7f48>],\n",
       " 'boxes': [<matplotlib.lines.Line2D at 0x22cdaeb7b88>],\n",
       " 'medians': [<matplotlib.lines.Line2D at 0x22cdaebc988>],\n",
       " 'fliers': [<matplotlib.lines.Line2D at 0x22cdaeb7548>],\n",
       " 'means': []}"
      ]
     },
     "execution_count": 58,
     "metadata": {},
     "output_type": "execute_result"
    },
    {
     "data": {
      "image/png": "[encoded data removed]",
      "text/plain": [
       "<Figure size 432x288 with 3 Axes>"
      ]
     },
     "metadata": {
      "needs_background": "light"
     },
     "output_type": "display_data"
    }
   ],
   "source": [
    "_, (ax1, ax2, ax3) = plt.subplots(ncols=3)\n",
    "ax1.boxplot(new_data[new_data['CallsCount'] < 20000]['CallsCount'])\n",
    "ax2.boxplot(new_data[(new_data['CallsCount'] < 20000) & (new_data['IsGeo'] == 1)]['CallsCount'])\n",
    "ax3.boxplot(new_data[(new_data['CallsCount'] < 20000) & (new_data['IsGeo'] == 0)]['CallsCount'])"
   ]
  },
  {
   "cell_type": "markdown",
   "metadata": {},
   "source": [
    "Поскольку в данных много выбросов, логично оценить их центр и вариативность с помощью медианы и межквартильного размаха."
   ]
  },
  {
   "cell_type": "markdown",
   "metadata": {},
   "source": [
    "### Сравним более подробно по признаку \"IsGeo\""
   ]
  },
  {
   "cell_type": "code",
   "execution_count": 62,
   "metadata": {},
   "outputs": [
    {
     "data": {
      "text/plain": [
       "Text(0.5, 1.0, 'IsGeo = 0')"
      ]
     },
     "execution_count": 62,
     "metadata": {},
     "output_type": "execute_result"
    },
    {
     "data": {
      "image/png": "[encoded data removed]",
      "text/plain": [
       "<Figure size 432x288 with 2 Axes>"
      ]
     },
     "metadata": {
      "needs_background": "light"
     },
     "output_type": "display_data"
    }
   ],
   "source": [
    "_, (ax2, ax3) = plt.subplots(ncols=2)\n",
    "ax2.boxplot(new_data[(new_data['CallsCount'] < 20000) & (new_data['IsGeo'] == 1)]['CallsCount'])\n",
    "ax2.set_title('IsGeo = 1')\n",
    "ax3.boxplot(new_data[(new_data['CallsCount'] < 20000) & (new_data['IsGeo'] == 0)]['CallsCount'])\n",
    "ax3.set_title('IsGeo = 0')"
   ]
  },
  {
   "cell_type": "markdown",
   "metadata": {},
   "source": [
    "Судя по графикам мы можем заметить, что при показателе IsGeo=1 наши значения в среднем больше, чем при IsGeo=0. Построим гистограммы."
   ]
  },
  {
   "cell_type": "code",
   "execution_count": 64,
   "metadata": {},
   "outputs": [
    {
     "data": {
      "text/plain": [
       "Text(0.5, 1.0, 'IsGeo = 0')"
      ]
     },
     "execution_count": 64,
     "metadata": {},
     "output_type": "execute_result"
    },
    {
     "data": {
      "image/png": "[encoded data removed]",
      "text/plain": [
       "<Figure size 432x288 with 2 Axes>"
      ]
     },
     "metadata": {
      "needs_background": "light"
     },
     "output_type": "display_data"
    }
   ],
   "source": [
    "_, (ax1, ax2) = plt.subplots(ncols=2)\n",
    "ax1.hist(new_data[(new_data['CallsCount'] < 20000) & (new_data['IsGeo'] == 1)]['CallsCount'], bins='auto')\n",
    "ax1.set_title('IsGeo = 1')\n",
    "ax2.hist(new_data[(new_data['CallsCount'] < 20000) & (new_data['IsGeo'] == 0)]['CallsCount'], bins='auto')\n",
    "ax2.set_title('IsGeo = 0')"
   ]
  },
  {
   "cell_type": "markdown",
   "metadata": {},
   "source": [
    "Расчитаем основные статистики на этих выборках."
   ]
  },
  {
   "cell_type": "code",
   "execution_count": 67,
   "metadata": {},
   "outputs": [
    {
     "data": {
      "text/plain": [
       "count       27.000000\n",
       "mean      2959.444444\n",
       "std       3435.463101\n",
       "min         20.000000\n",
       "25%        680.000000\n",
       "50%       1744.000000\n",
       "75%       3809.500000\n",
       "max      12189.000000\n",
       "Name: CallsCount, dtype: float64"
      ]
     },
     "execution_count": 67,
     "metadata": {},
     "output_type": "execute_result"
    }
   ],
   "source": [
    "new_data[(new_data['CallsCount'] < 20000) & (new_data['IsGeo'] == 1)]['CallsCount'].describe()\n"
   ]
  },
  {
   "cell_type": "code",
   "execution_count": 69,
   "metadata": {},
   "outputs": [
    {
     "data": {
      "text/plain": [
       "count       49.000000\n",
       "mean      1863.734694\n",
       "std       2936.887828\n",
       "min         37.000000\n",
       "25%        319.000000\n",
       "50%        692.000000\n",
       "75%       1849.000000\n",
       "max      12805.000000\n",
       "Name: CallsCount, dtype: float64"
      ]
     },
     "execution_count": 69,
     "metadata": {},
     "output_type": "execute_result"
    }
   ],
   "source": [
    "new_data[(new_data['CallsCount'] < 20000) & (new_data['IsGeo'] == 0)]['CallsCount'].describe()"
   ]
  },
  {
   "cell_type": "markdown",
   "metadata": {},
   "source": [
    "По статистикам мы тоже можем сказать, что при \"IsGeo\"==0 распределение притянуто к левой части. Это мы можем сказать по 50, 75 перцентилям и средней."
   ]
  },
  {
   "cell_type": "markdown",
   "metadata": {},
   "source": [
    "Мы можем предположить, что при значениях > 5000 показатель \"IsGeo\" маловероятно равен единице, поэтому стоит проверить данные с большим показателем на наличие ошибок. Также мы можем сказать, что наши распределения имеют несколько различное распределение, хотя и похожи по форме.  "
   ]
  },
  {
   "cell_type": "code",
   "execution_count": null,
   "metadata": {},
   "outputs": [],
   "source": []
  }
 ],
 "metadata": {
  "kernelspec": {
   "display_name": "Python 3",
   "language": "python",
   "name": "python3"
  },
  "language_info": {
   "codemirror_mode": {
    "name": "ipython",
    "version": 3
   },
   "file_extension": ".py",
   "mimetype": "text/x-python",
   "name": "python",
   "nbconvert_exporter": "python",
   "pygments_lexer": "ipython3",
   "version": "3.7.6"
  }
 },
 "nbformat": 4,
 "nbformat_minor": 4
}
